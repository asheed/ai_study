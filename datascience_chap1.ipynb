{
 "cells": [
  {
   "cell_type": "markdown",
   "metadata": {
    "deletable": true,
    "editable": true
   },
   "source": [
    "# 데이텀 주식회사의 데이터 과학자 명단"
   ]
  },
  {
   "cell_type": "code",
   "execution_count": 1,
   "metadata": {
    "collapsed": true,
    "deletable": true,
    "editable": true
   },
   "outputs": [],
   "source": [
    "users = [\n",
    "\t{\"id\": 0, \"name\": \"Hero\"},\n",
    "\t{\"id\": 1, \"name\": \"Dunn\"},\n",
    "\t{\"id\": 2, \"name\": \"Sue\"},\n",
    "\t{\"id\": 3, \"name\": \"Chi\"},\n",
    "\t{\"id\": 4, \"name\": \"Thor\"},\n",
    "\t{\"id\": 5, \"name\": \"Clive\"},\n",
    "\t{\"id\": 6, \"name\": \"Hicks\"},\n",
    "\t{\"id\": 7, \"name\": \"Devin\"},\n",
    "\t{\"id\": 8, \"name\": \"Kate\"},\n",
    "\t{\"id\": 9, \"name\": \"Klein\"}\n",
    "]"
   ]
  },
  {
   "cell_type": "markdown",
   "metadata": {
    "deletable": true,
    "editable": true
   },
   "source": [
    "## 목표 : 핵심 인물 찾기\n",
    " - 아래는 서로 친구인 데이터 과학자들의 데이터"
   ]
  },
  {
   "cell_type": "code",
   "execution_count": 2,
   "metadata": {
    "collapsed": true,
    "deletable": true,
    "editable": true
   },
   "outputs": [],
   "source": [
    "friendships = [(0, 1), (0, 2), (1, 2), (1, 3), (2, 3), (3, 4),\n",
    "               (4, 5), (5, 6), (5, 7), (6, 8), (7, 8), (8, 9)]"
   ]
  },
  {
   "cell_type": "markdown",
   "metadata": {
    "deletable": true,
    "editable": true
   },
   "source": [
    "![데이텀의 사용자 네트워크](https://www.safaribooksonline.com/library/view/data-science-from/9781491901410/assets/dsfs_0102.png \"데이텀의 사용자 네트워크\")"
   ]
  },
  {
   "cell_type": "markdown",
   "metadata": {
    "deletable": true,
    "editable": true
   },
   "source": [
    "## 자료구조 만들기"
   ]
  },
  {
   "cell_type": "code",
   "execution_count": 3,
   "metadata": {
    "collapsed": true,
    "deletable": true,
    "editable": true
   },
   "outputs": [],
   "source": [
    "# 각 사용자의 friends 속성에 빈 list를 할당\n",
    "for user in users:\n",
    "\tuser[\"friends\"] = []\n",
    "\n",
    "# friendships 데이터를 이용하여 각 list에 값을 할당\n",
    "for i, j in friendships:\n",
    "\t# users[i]에서 i는 각 사용자의 id와 같으므로 이를 이용해서 친구를 추가함\n",
    "\tusers[i][\"friends\"].append(users[j])\n",
    "\tusers[j][\"friends\"].append(users[i])"
   ]
  },
  {
   "cell_type": "markdown",
   "metadata": {
    "deletable": true,
    "editable": true
   },
   "source": [
    "## 데이터 확인"
   ]
  },
  {
   "cell_type": "code",
   "execution_count": 4,
   "metadata": {
    "collapsed": false,
    "deletable": true,
    "editable": true
   },
   "outputs": [
    {
     "name": "stdout",
     "output_type": "stream",
     "text": [
      "{'id': 0, 'friends': [{'id': 1, 'friends': [{...}, {'id': 2, 'friends': [{...}, {...}, {'id': 3, 'friends': [{...}, {...}, {'id': 4, 'friends': [{...}, {'id': 5, 'friends': [{...}, {'id': 6, 'friends': [{...}, {'id': 8, 'friends': [{...}, {'id': 7, 'friends': [{...}, {...}], 'name': 'Devin'}, {'id': 9, 'friends': [{...}], 'name': 'Klein'}], 'name': 'Kate'}], 'name': 'Hicks'}, {'id': 7, 'friends': [{...}, {'id': 8, 'friends': [{'id': 6, 'friends': [{...}, {...}], 'name': 'Hicks'}, {...}, {'id': 9, 'friends': [{...}], 'name': 'Klein'}], 'name': 'Kate'}], 'name': 'Devin'}], 'name': 'Clive'}], 'name': 'Thor'}], 'name': 'Chi'}], 'name': 'Sue'}, {'id': 3, 'friends': [{...}, {'id': 2, 'friends': [{...}, {...}, {...}], 'name': 'Sue'}, {'id': 4, 'friends': [{...}, {'id': 5, 'friends': [{...}, {'id': 6, 'friends': [{...}, {'id': 8, 'friends': [{...}, {'id': 7, 'friends': [{...}, {...}], 'name': 'Devin'}, {'id': 9, 'friends': [{...}], 'name': 'Klein'}], 'name': 'Kate'}], 'name': 'Hicks'}, {'id': 7, 'friends': [{...}, {'id': 8, 'friends': [{'id': 6, 'friends': [{...}, {...}], 'name': 'Hicks'}, {...}, {'id': 9, 'friends': [{...}], 'name': 'Klein'}], 'name': 'Kate'}], 'name': 'Devin'}], 'name': 'Clive'}], 'name': 'Thor'}], 'name': 'Chi'}], 'name': 'Dunn'}, {'id': 2, 'friends': [{...}, {'id': 1, 'friends': [{...}, {...}, {'id': 3, 'friends': [{...}, {...}, {'id': 4, 'friends': [{...}, {'id': 5, 'friends': [{...}, {'id': 6, 'friends': [{...}, {'id': 8, 'friends': [{...}, {'id': 7, 'friends': [{...}, {...}], 'name': 'Devin'}, {'id': 9, 'friends': [{...}], 'name': 'Klein'}], 'name': 'Kate'}], 'name': 'Hicks'}, {'id': 7, 'friends': [{...}, {'id': 8, 'friends': [{'id': 6, 'friends': [{...}, {...}], 'name': 'Hicks'}, {...}, {'id': 9, 'friends': [{...}], 'name': 'Klein'}], 'name': 'Kate'}], 'name': 'Devin'}], 'name': 'Clive'}], 'name': 'Thor'}], 'name': 'Chi'}], 'name': 'Dunn'}, {'id': 3, 'friends': [{'id': 1, 'friends': [{...}, {...}, {...}], 'name': 'Dunn'}, {...}, {'id': 4, 'friends': [{...}, {'id': 5, 'friends': [{...}, {'id': 6, 'friends': [{...}, {'id': 8, 'friends': [{...}, {'id': 7, 'friends': [{...}, {...}], 'name': 'Devin'}, {'id': 9, 'friends': [{...}], 'name': 'Klein'}], 'name': 'Kate'}], 'name': 'Hicks'}, {'id': 7, 'friends': [{...}, {'id': 8, 'friends': [{'id': 6, 'friends': [{...}, {...}], 'name': 'Hicks'}, {...}, {'id': 9, 'friends': [{...}], 'name': 'Klein'}], 'name': 'Kate'}], 'name': 'Devin'}], 'name': 'Clive'}], 'name': 'Thor'}], 'name': 'Chi'}], 'name': 'Sue'}], 'name': 'Hero'}\n\n{'id': 1, 'friends': [{'id': 0, 'friends': [{...}, {'id': 2, 'friends': [{...}, {...}, {'id': 3, 'friends': [{...}, {...}, {'id': 4, 'friends': [{...}, {'id': 5, 'friends': [{...}, {'id': 6, 'friends': [{...}, {'id': 8, 'friends': [{...}, {'id': 7, 'friends': [{...}, {...}], 'name': 'Devin'}, {'id': 9, 'friends': [{...}], 'name': 'Klein'}], 'name': 'Kate'}], 'name': 'Hicks'}, {'id': 7, 'friends': [{...}, {'id': 8, 'friends': [{'id': 6, 'friends': [{...}, {...}], 'name': 'Hicks'}, {...}, {'id': 9, 'friends': [{...}], 'name': 'Klein'}], 'name': 'Kate'}], 'name': 'Devin'}], 'name': 'Clive'}], 'name': 'Thor'}], 'name': 'Chi'}], 'name': 'Sue'}], 'name': 'Hero'}, {'id': 2, 'friends': [{'id': 0, 'friends': [{...}, {...}], 'name': 'Hero'}, {...}, {'id': 3, 'friends': [{...}, {...}, {'id': 4, 'friends': [{...}, {'id': 5, 'friends': [{...}, {'id': 6, 'friends': [{...}, {'id': 8, 'friends': [{...}, {'id': 7, 'friends': [{...}, {...}], 'name': 'Devin'}, {'id': 9, 'friends': [{...}], 'name': 'Klein'}], 'name': 'Kate'}], 'name': 'Hicks'}, {'id': 7, 'friends': [{...}, {'id': 8, 'friends': [{'id': 6, 'friends': [{...}, {...}], 'name': 'Hicks'}, {...}, {'id': 9, 'friends': [{...}], 'name': 'Klein'}], 'name': 'Kate'}], 'name': 'Devin'}], 'name': 'Clive'}], 'name': 'Thor'}], 'name': 'Chi'}], 'name': 'Sue'}, {'id': 3, 'friends': [{...}, {'id': 2, 'friends': [{'id': 0, 'friends': [{...}, {...}], 'name': 'Hero'}, {...}, {...}], 'name': 'Sue'}, {'id': 4, 'friends': [{...}, {'id': 5, 'friends': [{...}, {'id': 6, 'friends': [{...}, {'id': 8, 'friends': [{...}, {'id': 7, 'friends': [{...}, {...}], 'name': 'Devin'}, {'id': 9, 'friends': [{...}], 'name': 'Klein'}], 'name': 'Kate'}], 'name': 'Hicks'}, {'id': 7, 'friends': [{...}, {'id': 8, 'friends': [{'id': 6, 'friends': [{...}, {...}], 'name': 'Hicks'}, {...}, {'id': 9, 'friends': [{...}], 'name': 'Klein'}], 'name': 'Kate'}], 'name': 'Devin'}], 'name': 'Clive'}], 'name': 'Thor'}], 'name': 'Chi'}], 'name': 'Dunn'}\n\n{'id': 2, 'friends': [{'id': 0, 'friends': [{'id': 1, 'friends': [{...}, {...}, {'id': 3, 'friends': [{...}, {...}, {'id': 4, 'friends': [{...}, {'id': 5, 'friends': [{...}, {'id': 6, 'friends': [{...}, {'id': 8, 'friends': [{...}, {'id': 7, 'friends': [{...}, {...}], 'name': 'Devin'}, {'id': 9, 'friends': [{...}], 'name': 'Klein'}], 'name': 'Kate'}], 'name': 'Hicks'}, {'id': 7, 'friends': [{...}, {'id': 8, 'friends': [{'id': 6, 'friends': [{...}, {...}], 'name': 'Hicks'}, {...}, {'id': 9, 'friends': [{...}], 'name': 'Klein'}], 'name': 'Kate'}], 'name': 'Devin'}], 'name': 'Clive'}], 'name': 'Thor'}], 'name': 'Chi'}], 'name': 'Dunn'}, {...}], 'name': 'Hero'}, {'id': 1, 'friends': [{'id': 0, 'friends': [{...}, {...}], 'name': 'Hero'}, {...}, {'id': 3, 'friends': [{...}, {...}, {'id': 4, 'friends': [{...}, {'id': 5, 'friends': [{...}, {'id': 6, 'friends': [{...}, {'id': 8, 'friends': [{...}, {'id': 7, 'friends': [{...}, {...}], 'name': 'Devin'}, {'id': 9, 'friends': [{...}], 'name': 'Klein'}], 'name': 'Kate'}], 'name': 'Hicks'}, {'id': 7, 'friends': [{...}, {'id': 8, 'friends': [{'id': 6, 'friends': [{...}, {...}], 'name': 'Hicks'}, {...}, {'id': 9, 'friends': [{...}], 'name': 'Klein'}], 'name': 'Kate'}], 'name': 'Devin'}], 'name': 'Clive'}], 'name': 'Thor'}], 'name': 'Chi'}], 'name': 'Dunn'}, {'id': 3, 'friends': [{'id': 1, 'friends': [{'id': 0, 'friends': [{...}, {...}], 'name': 'Hero'}, {...}, {...}], 'name': 'Dunn'}, {...}, {'id': 4, 'friends': [{...}, {'id': 5, 'friends': [{...}, {'id': 6, 'friends': [{...}, {'id': 8, 'friends': [{...}, {'id': 7, 'friends': [{...}, {...}], 'name': 'Devin'}, {'id': 9, 'friends': [{...}], 'name': 'Klein'}], 'name': 'Kate'}], 'name': 'Hicks'}, {'id': 7, 'friends': [{...}, {'id': 8, 'friends': [{'id': 6, 'friends': [{...}, {...}], 'name': 'Hicks'}, {...}, {'id': 9, 'friends': [{...}], 'name': 'Klein'}], 'name': 'Kate'}], 'name': 'Devin'}], 'name': 'Clive'}], 'name': 'Thor'}], 'name': 'Chi'}], 'name': 'Sue'}\n\n{'id': 3, 'friends': [{'id': 1, 'friends': [{'id': 0, 'friends': [{...}, {'id': 2, 'friends': [{...}, {...}, {...}], 'name': 'Sue'}], 'name': 'Hero'}, {'id': 2, 'friends': [{'id': 0, 'friends': [{...}, {...}], 'name': 'Hero'}, {...}, {...}], 'name': 'Sue'}, {...}], 'name': 'Dunn'}, {'id': 2, 'friends': [{'id': 0, 'friends': [{'id': 1, 'friends': [{...}, {...}, {...}], 'name': 'Dunn'}, {...}], 'name': 'Hero'}, {'id': 1, 'friends': [{'id': 0, 'friends': [{...}, {...}], 'name': 'Hero'}, {...}, {...}], 'name': 'Dunn'}, {...}], 'name': 'Sue'}, {'id': 4, 'friends': [{...}, {'id': 5, 'friends': [{...}, {'id': 6, 'friends': [{...}, {'id': 8, 'friends': [{...}, {'id': 7, 'friends': [{...}, {...}], 'name': 'Devin'}, {'id': 9, 'friends': [{...}], 'name': 'Klein'}], 'name': 'Kate'}], 'name': 'Hicks'}, {'id': 7, 'friends': [{...}, {'id': 8, 'friends': [{'id': 6, 'friends': [{...}, {...}], 'name': 'Hicks'}, {...}, {'id': 9, 'friends': [{...}], 'name': 'Klein'}], 'name': 'Kate'}], 'name': 'Devin'}], 'name': 'Clive'}], 'name': 'Thor'}], 'name': 'Chi'}\n\n{'id': 4, 'friends': [{'id': 3, 'friends': [{'id': 1, 'friends': [{'id': 0, 'friends': [{...}, {'id': 2, 'friends': [{...}, {...}, {...}], 'name': 'Sue'}], 'name': 'Hero'}, {'id': 2, 'friends': [{'id': 0, 'friends': [{...}, {...}], 'name': 'Hero'}, {...}, {...}], 'name': 'Sue'}, {...}], 'name': 'Dunn'}, {'id': 2, 'friends': [{'id': 0, 'friends': [{'id': 1, 'friends': [{...}, {...}, {...}], 'name': 'Dunn'}, {...}], 'name': 'Hero'}, {'id': 1, 'friends': [{'id': 0, 'friends': [{...}, {...}], 'name': 'Hero'}, {...}, {...}], 'name': 'Dunn'}, {...}], 'name': 'Sue'}, {...}], 'name': 'Chi'}, {'id': 5, 'friends': [{...}, {'id': 6, 'friends': [{...}, {'id': 8, 'friends': [{...}, {'id': 7, 'friends': [{...}, {...}], 'name': 'Devin'}, {'id': 9, 'friends': [{...}], 'name': 'Klein'}], 'name': 'Kate'}], 'name': 'Hicks'}, {'id': 7, 'friends': [{...}, {'id': 8, 'friends': [{'id': 6, 'friends': [{...}, {...}], 'name': 'Hicks'}, {...}, {'id': 9, 'friends': [{...}], 'name': 'Klein'}], 'name': 'Kate'}], 'name': 'Devin'}], 'name': 'Clive'}], 'name': 'Thor'}\n\n{'id': 5, 'friends': [{'id': 4, 'friends': [{'id': 3, 'friends': [{'id': 1, 'friends': [{'id': 0, 'friends': [{...}, {'id': 2, 'friends': [{...}, {...}, {...}], 'name': 'Sue'}], 'name': 'Hero'}, {'id': 2, 'friends': [{'id': 0, 'friends': [{...}, {...}], 'name': 'Hero'}, {...}, {...}], 'name': 'Sue'}, {...}], 'name': 'Dunn'}, {'id': 2, 'friends': [{'id': 0, 'friends': [{'id': 1, 'friends': [{...}, {...}, {...}], 'name': 'Dunn'}, {...}], 'name': 'Hero'}, {'id': 1, 'friends': [{'id': 0, 'friends': [{...}, {...}], 'name': 'Hero'}, {...}, {...}], 'name': 'Dunn'}, {...}], 'name': 'Sue'}, {...}], 'name': 'Chi'}, {...}], 'name': 'Thor'}, {'id': 6, 'friends': [{...}, {'id': 8, 'friends': [{...}, {'id': 7, 'friends': [{...}, {...}], 'name': 'Devin'}, {'id': 9, 'friends': [{...}], 'name': 'Klein'}], 'name': 'Kate'}], 'name': 'Hicks'}, {'id': 7, 'friends': [{...}, {'id': 8, 'friends': [{'id': 6, 'friends': [{...}, {...}], 'name': 'Hicks'}, {...}, {'id': 9, 'friends': [{...}], 'name': 'Klein'}], 'name': 'Kate'}], 'name': 'Devin'}], 'name': 'Clive'}\n\n{'id': 6, 'friends': [{'id': 5, 'friends': [{'id': 4, 'friends': [{'id': 3, 'friends': [{'id': 1, 'friends': [{'id': 0, 'friends': [{...}, {'id': 2, 'friends': [{...}, {...}, {...}], 'name': 'Sue'}], 'name': 'Hero'}, {'id': 2, 'friends': [{'id': 0, 'friends': [{...}, {...}], 'name': 'Hero'}, {...}, {...}], 'name': 'Sue'}, {...}], 'name': 'Dunn'}, {'id': 2, 'friends': [{'id': 0, 'friends': [{'id': 1, 'friends': [{...}, {...}, {...}], 'name': 'Dunn'}, {...}], 'name': 'Hero'}, {'id': 1, 'friends': [{'id': 0, 'friends': [{...}, {...}], 'name': 'Hero'}, {...}, {...}], 'name': 'Dunn'}, {...}], 'name': 'Sue'}, {...}], 'name': 'Chi'}, {...}], 'name': 'Thor'}, {...}, {'id': 7, 'friends': [{...}, {'id': 8, 'friends': [{...}, {...}, {'id': 9, 'friends': [{...}], 'name': 'Klein'}], 'name': 'Kate'}], 'name': 'Devin'}], 'name': 'Clive'}, {'id': 8, 'friends': [{...}, {'id': 7, 'friends': [{'id': 5, 'friends': [{'id': 4, 'friends': [{'id': 3, 'friends': [{'id': 1, 'friends': [{'id': 0, 'friends': [{...}, {'id': 2, 'friends': [{...}, {...}, {...}], 'name': 'Sue'}], 'name': 'Hero'}, {'id': 2, 'friends': [{'id': 0, 'friends': [{...}, {...}], 'name': 'Hero'}, {...}, {...}], 'name': 'Sue'}, {...}], 'name': 'Dunn'}, {'id': 2, 'friends': [{'id': 0, 'friends': [{'id': 1, 'friends': [{...}, {...}, {...}], 'name': 'Dunn'}, {...}], 'name': 'Hero'}, {'id': 1, 'friends': [{'id': 0, 'friends': [{...}, {...}], 'name': 'Hero'}, {...}, {...}], 'name': 'Dunn'}, {...}], 'name': 'Sue'}, {...}], 'name': 'Chi'}, {...}], 'name': 'Thor'}, {...}, {...}], 'name': 'Clive'}, {...}], 'name': 'Devin'}, {'id': 9, 'friends': [{...}], 'name': 'Klein'}], 'name': 'Kate'}], 'name': 'Hicks'}\n\n{'id': 7, 'friends': [{'id': 5, 'friends': [{'id': 4, 'friends': [{'id': 3, 'friends': [{'id': 1, 'friends': [{'id': 0, 'friends': [{...}, {'id': 2, 'friends': [{...}, {...}, {...}], 'name': 'Sue'}], 'name': 'Hero'}, {'id': 2, 'friends': [{'id': 0, 'friends': [{...}, {...}], 'name': 'Hero'}, {...}, {...}], 'name': 'Sue'}, {...}], 'name': 'Dunn'}, {'id': 2, 'friends': [{'id': 0, 'friends': [{'id': 1, 'friends': [{...}, {...}, {...}], 'name': 'Dunn'}, {...}], 'name': 'Hero'}, {'id': 1, 'friends': [{'id': 0, 'friends': [{...}, {...}], 'name': 'Hero'}, {...}, {...}], 'name': 'Dunn'}, {...}], 'name': 'Sue'}, {...}], 'name': 'Chi'}, {...}], 'name': 'Thor'}, {'id': 6, 'friends': [{...}, {'id': 8, 'friends': [{...}, {...}, {'id': 9, 'friends': [{...}], 'name': 'Klein'}], 'name': 'Kate'}], 'name': 'Hicks'}, {...}], 'name': 'Clive'}, {'id': 8, 'friends': [{'id': 6, 'friends': [{'id': 5, 'friends': [{'id': 4, 'friends': [{'id': 3, 'friends': [{'id': 1, 'friends': [{'id': 0, 'friends': [{...}, {'id': 2, 'friends': [{...}, {...}, {...}], 'name': 'Sue'}], 'name': 'Hero'}, {'id': 2, 'friends': [{'id': 0, 'friends': [{...}, {...}], 'name': 'Hero'}, {...}, {...}], 'name': 'Sue'}, {...}], 'name': 'Dunn'}, {'id': 2, 'friends': [{'id': 0, 'friends': [{'id': 1, 'friends': [{...}, {...}, {...}], 'name': 'Dunn'}, {...}], 'name': 'Hero'}, {'id': 1, 'friends': [{'id': 0, 'friends': [{...}, {...}], 'name': 'Hero'}, {...}, {...}], 'name': 'Dunn'}, {...}], 'name': 'Sue'}, {...}], 'name': 'Chi'}, {...}], 'name': 'Thor'}, {...}, {...}], 'name': 'Clive'}, {...}], 'name': 'Hicks'}, {...}, {'id': 9, 'friends': [{...}], 'name': 'Klein'}], 'name': 'Kate'}], 'name': 'Devin'}\n\n{'id': 8, 'friends': [{'id': 6, 'friends': [{'id': 5, 'friends': [{'id': 4, 'friends': [{'id': 3, 'friends': [{'id': 1, 'friends': [{'id': 0, 'friends': [{...}, {'id': 2, 'friends': [{...}, {...}, {...}], 'name': 'Sue'}], 'name': 'Hero'}, {'id': 2, 'friends': [{'id': 0, 'friends': [{...}, {...}], 'name': 'Hero'}, {...}, {...}], 'name': 'Sue'}, {...}], 'name': 'Dunn'}, {'id': 2, 'friends': [{'id': 0, 'friends': [{'id': 1, 'friends': [{...}, {...}, {...}], 'name': 'Dunn'}, {...}], 'name': 'Hero'}, {'id': 1, 'friends': [{'id': 0, 'friends': [{...}, {...}], 'name': 'Hero'}, {...}, {...}], 'name': 'Dunn'}, {...}], 'name': 'Sue'}, {...}], 'name': 'Chi'}, {...}], 'name': 'Thor'}, {...}, {'id': 7, 'friends': [{...}, {...}], 'name': 'Devin'}], 'name': 'Clive'}, {...}], 'name': 'Hicks'}, {'id': 7, 'friends': [{'id': 5, 'friends': [{'id': 4, 'friends': [{'id': 3, 'friends': [{'id': 1, 'friends': [{'id': 0, 'friends': [{...}, {'id': 2, 'friends': [{...}, {...}, {...}], 'name': 'Sue'}], 'name': 'Hero'}, {'id': 2, 'friends': [{'id': 0, 'friends': [{...}, {...}], 'name': 'Hero'}, {...}, {...}], 'name': 'Sue'}, {...}], 'name': 'Dunn'}, {'id': 2, 'friends': [{'id': 0, 'friends': [{'id': 1, 'friends': [{...}, {...}, {...}], 'name': 'Dunn'}, {...}], 'name': 'Hero'}, {'id': 1, 'friends': [{'id': 0, 'friends': [{...}, {...}], 'name': 'Hero'}, {...}, {...}], 'name': 'Dunn'}, {...}], 'name': 'Sue'}, {...}], 'name': 'Chi'}, {...}], 'name': 'Thor'}, {'id': 6, 'friends': [{...}, {...}], 'name': 'Hicks'}, {...}], 'name': 'Clive'}, {...}], 'name': 'Devin'}, {'id': 9, 'friends': [{...}], 'name': 'Klein'}], 'name': 'Kate'}\n\n{'id': 9, 'friends': [{'id': 8, 'friends': [{'id': 6, 'friends': [{'id': 5, 'friends': [{'id': 4, 'friends': [{'id': 3, 'friends': [{'id': 1, 'friends': [{'id': 0, 'friends': [{...}, {'id': 2, 'friends': [{...}, {...}, {...}], 'name': 'Sue'}], 'name': 'Hero'}, {'id': 2, 'friends': [{'id': 0, 'friends': [{...}, {...}], 'name': 'Hero'}, {...}, {...}], 'name': 'Sue'}, {...}], 'name': 'Dunn'}, {'id': 2, 'friends': [{'id': 0, 'friends': [{'id': 1, 'friends': [{...}, {...}, {...}], 'name': 'Dunn'}, {...}], 'name': 'Hero'}, {'id': 1, 'friends': [{'id': 0, 'friends': [{...}, {...}], 'name': 'Hero'}, {...}, {...}], 'name': 'Dunn'}, {...}], 'name': 'Sue'}, {...}], 'name': 'Chi'}, {...}], 'name': 'Thor'}, {...}, {'id': 7, 'friends': [{...}, {...}], 'name': 'Devin'}], 'name': 'Clive'}, {...}], 'name': 'Hicks'}, {'id': 7, 'friends': [{'id': 5, 'friends': [{'id': 4, 'friends': [{'id': 3, 'friends': [{'id': 1, 'friends': [{'id': 0, 'friends': [{...}, {'id': 2, 'friends': [{...}, {...}, {...}], 'name': 'Sue'}], 'name': 'Hero'}, {'id': 2, 'friends': [{'id': 0, 'friends': [{...}, {...}], 'name': 'Hero'}, {...}, {...}], 'name': 'Sue'}, {...}], 'name': 'Dunn'}, {'id': 2, 'friends': [{'id': 0, 'friends': [{'id': 1, 'friends': [{...}, {...}, {...}], 'name': 'Dunn'}, {...}], 'name': 'Hero'}, {'id': 1, 'friends': [{'id': 0, 'friends': [{...}, {...}], 'name': 'Hero'}, {...}, {...}], 'name': 'Dunn'}, {...}], 'name': 'Sue'}, {...}], 'name': 'Chi'}, {...}], 'name': 'Thor'}, {'id': 6, 'friends': [{...}, {...}], 'name': 'Hicks'}, {...}], 'name': 'Clive'}, {...}], 'name': 'Devin'}, {...}], 'name': 'Kate'}], 'name': 'Klein'}\n\n"
     ]
    }
   ],
   "source": [
    "for user in users:\n",
    "\tprint (user)\n",
    "\tprint ()"
   ]
  },
  {
   "cell_type": "markdown",
   "metadata": {
    "collapsed": true,
    "deletable": true,
    "editable": true
   },
   "source": [
    "### user의 친구수?"
   ]
  },
  {
   "cell_type": "code",
   "execution_count": 5,
   "metadata": {
    "collapsed": false,
    "deletable": true,
    "editable": true
   },
   "outputs": [
    {
     "name": "stdout",
     "output_type": "stream",
     "text": [
      "총 연결 수:  24\n"
     ]
    }
   ],
   "source": [
    "def number_of_friends(user):\n",
    "\treturn len(user[\"friends\"])\n",
    "\n",
    "total_connections = sum(number_of_friends(user) for user in users)\n",
    "print(\"총 연결 수: \", total_connections)"
   ]
  },
  {
   "cell_type": "markdown",
   "metadata": {
    "deletable": true,
    "editable": true
   },
   "source": [
    "### 평균 친구수?"
   ]
  },
  {
   "cell_type": "code",
   "execution_count": 6,
   "metadata": {
    "collapsed": false,
    "deletable": true,
    "editable": true
   },
   "outputs": [
    {
     "name": "stdout",
     "output_type": "stream",
     "text": [
      "사용자 수:  10\n평균 연결 수:  2.4\n"
     ]
    }
   ],
   "source": [
    "num_users = len(users)  # 사람 수\n",
    "avg_connections = total_connections / num_users  # 평균 친구 수\n",
    "print(\"사용자 수: \", num_users)\n",
    "print(\"평균 연결 수: \", total_connections / num_users)"
   ]
  },
  {
   "cell_type": "markdown",
   "metadata": {
    "deletable": true,
    "editable": true
   },
   "source": [
    "### 친구가 가장 많은 사용자는?"
   ]
  },
  {
   "cell_type": "code",
   "execution_count": 7,
   "metadata": {
    "collapsed": false,
    "deletable": true,
    "editable": true
   },
   "outputs": [
    {
     "name": "stdout",
     "output_type": "stream",
     "text": [
      "친구 수를 기준으로 정렬된 사용자들\n[(1, 3), (2, 3), (3, 3), (5, 3), (8, 3), (0, 2), (4, 2), (6, 2), (7, 2), (9, 1)]\n"
     ]
    }
   ],
   "source": [
    "# (사용자 id, 친구 수)\n",
    "num_friends_by_id = [(user[\"id\"], number_of_friends(user))\n",
    "                     for user in users]\n",
    "\n",
    "print(\"친구 수를 기준으로 정렬된 사용자들\")\n",
    "print(sorted(num_friends_by_id, key=lambda pair: pair[1],reverse=True))"
   ]
  },
  {
   "cell_type": "markdown",
   "metadata": {
    "deletable": true,
    "editable": true
   },
   "source": [
    "## 데이터 과학자 추천하기\n",
    " - 친구 추천 기능? 서로 아는 친구가 몇명일까?\n",
    " - 아래는 user[0]의 친구인 user[1],user[2]의 친구 id를 리스트로 반환한다.\n",
    " - 이건 별로 좋지 않은듯..."
   ]
  },
  {
   "cell_type": "code",
   "execution_count": 8,
   "metadata": {
    "collapsed": false,
    "deletable": true,
    "editable": true
   },
   "outputs": [
    {
     "name": "stdout",
     "output_type": "stream",
     "text": [
      "[0, 2, 3, 0, 1, 3]\n"
     ]
    }
   ],
   "source": [
    "def friends_of_friend_ids_bad(user):\n",
    "\treturn [foaf[\"id\"]\n",
    "\t        for friend in user[\"friends\"]   # user의 각각의 친구에 대해서\n",
    "\t        for foaf in friend[\"friends\"]]  # 그들의 친구들을 찾아준다.\n",
    "\n",
    "print (friends_of_friend_ids_bad(users[0]))"
   ]
  },
  {
   "cell_type": "markdown",
   "metadata": {
    "deletable": true,
    "editable": true
   },
   "source": [
    " - 그렇다면 서로 아는 친구는?\n",
    " - 사용자가 이미 아는 사람은 제외한다."
   ]
  },
  {
   "cell_type": "code",
   "execution_count": 9,
   "metadata": {
    "collapsed": false,
    "deletable": true,
    "editable": true
   },
   "outputs": [
    {
     "name": "stdout",
     "output_type": "stream",
     "text": [
      "Counter({0: 2, 5: 1})\n"
     ]
    }
   ],
   "source": [
    "from collections import Counter\n",
    "\n",
    "def not_the_same(user, other_user):\n",
    "\t\"\"\"id가 서로 다르면 같지 않다.\"\"\"\n",
    "\treturn user[\"id\"] != other_user[\"id\"]\n",
    "\n",
    "def not_friends(user, other_user):\n",
    "\t\"\"\"만약 other_user가 user[\"friends\"]에 포함되지 않으면\n",
    "\t친구가 아닌 것으로 간주함.\"\"\"\n",
    "\treturn all(not_the_same(friend, other_user)\n",
    "\t           for friend in user[\"friends\"])\n",
    "\n",
    "def friends_of_friend_ids(user):\n",
    "\treturn Counter(foaf[\"id\"]\n",
    "\t               for friend in user[\"friends\"]  # 사용자의 각각의 친구에 대해\n",
    "\t               for foaf in friend[\"friends\"]  # 그들의 친구들을 또 살펴봅니다.\n",
    "\t               if not_the_same(user, foaf)    # 그 친구의 친구가 내가 아니고,\n",
    "\t               and not_friends(user, foaf))   # 내 친구가 내 친구가 아닌 경우에 추가함.\n",
    "\n",
    "print (friends_of_friend_ids(users[3]))"
   ]
  },
  {
   "cell_type": "markdown",
   "metadata": {
    "deletable": true,
    "editable": true
   },
   "source": [
    "### 관심사를 추가"
   ]
  },
  {
   "cell_type": "code",
   "execution_count": 10,
   "metadata": {
    "collapsed": true,
    "deletable": true,
    "editable": true
   },
   "outputs": [],
   "source": [
    "interests = [\n",
    "    (0, \"Hadoop\"), (0, \"Big Data\"), (0, \"HBase\"), (0, \"Java\"),\n",
    "    (0, \"Spark\"), (0, \"Storm\"), (0, \"Cassandra\"),\n",
    "    (1, \"NoSQL\"), (1, \"MongoDB\"), (1, \"Cassandra\"), (1, \"HBase\"),\n",
    "    (1, \"Postgres\"), (2, \"Python\"), (2, \"scikit-learn\"), (2, \"scipy\"),\n",
    "    (2, \"numpy\"), (2, \"statsmodels\"), (2, \"pandas\"), (3, \"R\"), (3, \"Python\"),\n",
    "    (3, \"statistics\"), (3, \"regression\"), (3, \"probability\"),\n",
    "    (4, \"machine learning\"), (4, \"regression\"), (4, \"decision trees\"),\n",
    "    (4, \"libsvm\"), (5, \"Python\"), (5, \"R\"), (5, \"Java\"), (5, \"C++\"),\n",
    "    (5, \"Haskell\"), (5, \"programming languages\"), (6, \"statistics\"),\n",
    "    (6, \"probability\"), (6, \"mathematics\"), (6, \"theory\"),\n",
    "    (7, \"machine learning\"), (7, \"scikit-learn\"), (7, \"Mahout\"),\n",
    "    (7, \"neural networks\"), (8, \"neural networks\"), (8, \"deep learning\"),\n",
    "    (8, \"Big Data\"), (8, \"artificial intelligence\"), (9, \"Hadoop\"),\n",
    "    (9, \"Java\"), (9, \"MapReduce\"), (9, \"Big Data\")\n",
    "]"
   ]
  },
  {
   "cell_type": "markdown",
   "metadata": {
    "deletable": true,
    "editable": true
   },
   "source": [
    "### 관심사가 같은 데이터 과학자를 찾아라!!!"
   ]
  },
  {
   "cell_type": "code",
   "execution_count": 11,
   "metadata": {
    "collapsed": true,
    "deletable": true,
    "editable": true
   },
   "outputs": [],
   "source": [
    "def data_scientists_who_like(target_interest):\n",
    "\treturn [user_id\n",
    "\t        for user_id, user_interest in interests\n",
    "\t        if user_interest == target_interest]"
   ]
  },
  {
   "cell_type": "markdown",
   "metadata": {
    "deletable": true,
    "editable": true
   },
   "source": [
    " - 위 코드의 문제점?\n",
    " - 호출할 때마다 interests 리스트를 쭈우우욱 훑어야한다..\n",
    " - 만약...amazon이라면???\n",
    " - 미리미리 인덱스를 만들자.."
   ]
  },
  {
   "cell_type": "code",
   "execution_count": 12,
   "metadata": {
    "collapsed": true,
    "deletable": true,
    "editable": true
   },
   "outputs": [],
   "source": [
    "from collections import defaultdict\n",
    "\n",
    "# key는 관심사, value는 사용자id 인 사전 객체\n",
    "user_ids_by_interests = defaultdict(list)\n",
    "\n",
    "for user_id, interest in interests:\n",
    "\tuser_ids_by_interests[interest].append(user_id)\n",
    "\t\n",
    "# key는 사용자id, value는 관심사 인 사전 객체\n",
    "interests_by_user_id = defaultdict(list)\n",
    "\n",
    "for user_id, interest in interests:\n",
    "\tinterests_by_user_id[user_id].append(interest)"
   ]
  },
  {
   "cell_type": "markdown",
   "metadata": {
    "deletable": true,
    "editable": true
   },
   "source": [
    "특정 사용자가 주어졌을 때, 사용자와 가장 유사한 관심사를 가진 사람이 누구????\n",
    "1. 해당 사용자의 관심사들을 훑는다.\n",
    "2. 각 관심사를 가진 다른 사용자들이 누구인지 찾아본다.\n",
    "3. 다른 사용자들이 몇 번이나 등장하는지 센다."
   ]
  },
  {
   "cell_type": "code",
   "execution_count": 13,
   "metadata": {
    "collapsed": false,
    "deletable": true,
    "editable": true
   },
   "outputs": [
    {
     "name": "stdout",
     "output_type": "stream",
     "text": [
      "\n######################\n#\n# 나랑 관심사가 유사한 사람들\n#\n######################\n\nuser0과 관심사가 유사한 사람들 :  Counter({9: 3, 1: 2, 8: 1, 5: 1})\n"
     ]
    }
   ],
   "source": [
    "def most_common_interests_with(user_id):\n",
    "\treturn Counter(interested_user_id\n",
    "\t               for interest in interests_by_user_id[user_id]\n",
    "\t               for interested_user_id in user_ids_by_interests[interest]\n",
    "\t               if interested_user_id != user_id)\n",
    "\n",
    "print()\n",
    "print(\"######################\")\n",
    "print(\"#\")\n",
    "print(\"# 나랑 관심사가 유사한 사람들\")\n",
    "print(\"#\")\n",
    "print(\"######################\")\n",
    "print()\n",
    "print(\"user0과 관심사가 유사한 사람들 : \", most_common_interests_with(users[0][\"id\"]))"
   ]
  },
  {
   "cell_type": "markdown",
   "metadata": {
    "deletable": true,
    "editable": true
   },
   "source": [
    "## 연봉과 경력의 상관관계???"
   ]
  },
  {
   "cell_type": "code",
   "execution_count": 16,
   "metadata": {
    "collapsed": false,
    "deletable": true,
    "editable": true
   },
   "outputs": [
    {
     "data": {
      "image/png": "[encoded data removed]",
      "text/plain": [
       "<matplotlib.figure.Figure at 0x1068c2470>"
      ]
     },
     "metadata": {},
     "output_type": "display_data"
    }
   ],
   "source": [
    "salaries_and_tenures = [(83000, 8.7), (88000, 8.1),\n",
    "                        (48000, 0.7), (76000, 6),\n",
    "                        (69000, 6.5), (76000, 7.5),\n",
    "                        (60000, 2.5), (83000, 10),\n",
    "                        (48000, 1.9), (63000, 4.2)]\n",
    "\n",
    "from matplotlib import pyplot as plt\n",
    "import matplotlib.font_manager as fm\n",
    "import matplotlib\n",
    "\n",
    "def make_chart_salaries_by_tenure():\n",
    "\ttenures = [tenure for salary, tenure in salaries_and_tenures]\n",
    "\tsalaries = [salary for salary, tenure in salaries_and_tenures]\n",
    "\tplt.scatter(tenures, salaries)\n",
    "\tplt.xlabel(\"경력\")\n",
    "\tplt.ylabel(\"연봉\")\n",
    "\tplt.show()\n",
    "\n",
    "#font_location = \"D:/NanumBarunGothic.ttf\"\n",
    "font_location = \"/Users/woojin/Library/Fonts/나눔고딕코딩.ttf\"\n",
    "font_name = fm.FontProperties(fname=font_location).get_name()\n",
    "matplotlib.rc('font', family=font_name)\n",
    "\n",
    "make_chart_salaries_by_tenure()"
   ]
  },
  {
   "cell_type": "markdown",
   "metadata": {
    "deletable": true,
    "editable": true
   },
   "source": [
    " - 경력이 많으면 연봉도 높다?\n",
    " - 조금 더 살펴볼까?\n",
    " - 경력에 따라 평균 연봉이 어떻게 달라지는지 알아보자."
   ]
  },
  {
   "cell_type": "code",
   "execution_count": 17,
   "metadata": {
    "collapsed": false,
    "deletable": true,
    "editable": true
   },
   "outputs": [
    {
     "name": "stdout",
     "output_type": "stream",
     "text": [
      "경력별 평균연봉\n",
      "{0.7: 48000.0, 1.9: 48000.0, 2.5: 60000.0, 4.2: 63000.0, 6.5: 69000.0, 6: 76000.0, 7.5: 76000.0, 8.1: 88000.0, 10: 83000.0, 8.7: 83000.0}\n"
     ]
    }
   ],
   "source": [
    "# key는 경력, value는 연봉\n",
    "salary_by_tenure = defaultdict(list)\n",
    "\n",
    "for salary, tenure in salaries_and_tenures:\n",
    "\tsalary_by_tenure[tenure].append(salary)\n",
    "\t\n",
    "# key는 경력, value는 해당 경력의 평균 연봉\n",
    "average_salary_by_tenure = {\n",
    "\ttenure : sum(salaries) / len(salaries)\n",
    "\tfor tenure, salaries in salary_by_tenure.items()\n",
    "}\n",
    "\n",
    "print(\"경력별 평균연봉\")\n",
    "print(average_salary_by_tenure)"
   ]
  },
  {
   "cell_type": "markdown",
   "metadata": {
    "deletable": true,
    "editable": true
   },
   "source": [
    "- 위 데이터는 별로 의미가 없다.\n",
    "- 근속 연수가 같은 사용자가 많다면 의미가 있을것."
   ]
  },
  {
   "cell_type": "markdown",
   "metadata": {
    "deletable": true,
    "editable": true
   },
   "source": [
    "- 차라리 아래와 같이 경력을 몇개의 구간으로 나누고"
   ]
  },
  {
   "cell_type": "code",
   "execution_count": 18,
   "metadata": {
    "collapsed": true,
    "deletable": true,
    "editable": true
   },
   "outputs": [],
   "source": [
    "def tenure_bucket(tenure):\n",
    "\tif tenure < 2:\n",
    "\t\treturn \"less than two\"\n",
    "\telif tenure < 5:\n",
    "\t\treturn \"between two and five\"\n",
    "\telse:\n",
    "\t\treturn \"more than five\""
   ]
  },
  {
   "cell_type": "markdown",
   "metadata": {
    "deletable": true,
    "editable": true
   },
   "source": [
    "- 각 연봉을 해당 구간에 매핑하자."
   ]
  },
  {
   "cell_type": "code",
   "execution_count": 19,
   "metadata": {
    "collapsed": false,
    "deletable": true,
    "editable": true
   },
   "outputs": [
    {
     "name": "stdout",
     "output_type": "stream",
     "text": [
      "between two and five [60000, 63000]\n",
      "less than two [48000, 48000]\n",
      "more than five [83000, 88000, 76000, 69000, 76000, 83000]\n"
     ]
    }
   ],
   "source": [
    "# key는 경력 구간, value는 해당 구간에 속하는 사용자들의 연봉\n",
    "salary_by_tenure_bucket = defaultdict(list)\n",
    "for salary, tenure in salaries_and_tenures:\n",
    "\tbucket = tenure_bucket(tenure)\n",
    "\tsalary_by_tenure_bucket[bucket].append(salary)\n",
    "\n",
    "for key, value in salary_by_tenure_bucket.items():\n",
    "\tprint ( key, value)\n",
    "# print (salary_by_tenure_bucket)"
   ]
  },
  {
   "cell_type": "markdown",
   "metadata": {
    "deletable": true,
    "editable": true
   },
   "source": [
    "- 마지막으로 각 구간의 평균 연봉을 구해보면,"
   ]
  },
  {
   "cell_type": "code",
   "execution_count": 20,
   "metadata": {
    "collapsed": false,
    "deletable": true,
    "editable": true
   },
   "outputs": [
    {
     "name": "stdout",
     "output_type": "stream",
     "text": [
      "less than two 48000.0\n",
      "between two and five 61500.0\n",
      "more than five 79166.66666666667\n"
     ]
    }
   ],
   "source": [
    "# key는 경력 구간, value는 해당 구간에 속하는 사용자들의 평균 연봉\n",
    "average_salary_by_bucket = {\n",
    "\ttenure_bucket : sum(salaries) / len(salaries)\n",
    "\tfor tenure_bucket, salaries in salary_by_tenure_bucket.items()\n",
    "}\n",
    "\n",
    "for key, value in average_salary_by_bucket.items():\n",
    "\tprint ( key, value)\n",
    "# print (average_salary_by_bucket)"
   ]
  },
  {
   "cell_type": "markdown",
   "metadata": {
    "deletable": true,
    "editable": true
   },
   "source": [
    "위 결과를 통해 다음과 같이 말할 수 있다.\n",
    "- 5년 이상의 경력을 가진 데이터 과학자들은 경력이 없거나 적은 데이터 과학자들보다 65%나 더 번다!\n",
    "여기서는 임의의 구간을 나누었지만, 경력이 1년 증가함에 따라 연봉이 평균적으로 어떻게 변하는지를 알아보는 것도 좋다.\n",
    "- 이 데이터로 연봉을 예측할 수도 있다. 이는 14장 \"단순 회귀 분석\"에서 알아본다."
   ]
  },
  {
   "cell_type": "markdown",
   "metadata": {
    "deletable": true,
    "editable": true
   },
   "source": [
    "## 유료계정???"
   ]
  },
  {
   "cell_type": "markdown",
   "metadata": {
    "deletable": true,
    "editable": true
   },
   "source": [
    "아래는 유료계정을 사용하는 사용자들의 데이터이다."
   ]
  },
  {
   "cell_type": "markdown",
   "metadata": {
    "deletable": true,
    "editable": true
   },
   "source": [
    "0.7 paid\n",
    "1.9 unpaid\n",
    "2.5 paid\n",
    "4.2 unpaid\n",
    "6   unpaid\n",
    "6.5 unpaid\n",
    "7.5 unpaid\n",
    "8.1 unpaid\n",
    "8.7 paid\n",
    "10  paid\n",
    "- 경력이 매우 짧거나 아주 긴 경우에는 유료 계정을 사용하는 경향이 있고, 근속 연수가 평균치 내외인 경우에는 그렇지 않은것 같다.\n",
    "- 따라서, 데이터가 부족하기는 해도 경력에 따라 유료 계정 사용 여부를 예측할 수 있는 간단한 모델을 만들어 볼 수 있다.\n",
    "- 그렇다. 이것도 모델이다...\n",
    "- 더 많은 데이터와 약간의 수학을 가미한다면, 사용자의 경력에 따라 사용자가 유료 계정으로 전환할 가능성을 계산할 수 있다.\n",
    " - 이런 종류의 문제는 16장에서 다룬다."
   ]
  },
  {
   "cell_type": "code",
   "execution_count": 21,
   "metadata": {
    "collapsed": true,
    "deletable": true,
    "editable": true
   },
   "outputs": [],
   "source": [
    "def predict_paid_or_unpaid(years_experience):\n",
    "\tif years_experience < 3.0:\n",
    "\t\treturn \"paid\"\n",
    "\telif years_experience < 8.5:\n",
    "\t\treturn \"unpaid\"\n",
    "\telse:\n",
    "\t\treturn \"paid\""
   ]
  },
  {
   "cell_type": "markdown",
   "metadata": {
    "deletable": true,
    "editable": true
   },
   "source": [
    "## 관심주제"
   ]
  },
  {
   "cell_type": "markdown",
   "metadata": {
    "deletable": true,
    "editable": true
   },
   "source": [
    "그다지 좋은 방법은 아니지만, 사용자들의 관심 데이터의 단어 수를 세서 가장 인기가 많은 관심사를 찾아봤다.\n",
    "1. 모든 관심사를 소문자로 변환한다.\n",
    "2. 모든 관심사를 단어 기준으로 쪼갠다.\n",
    "3. 각 단어의 수를 센다."
   ]
  },
  {
   "cell_type": "code",
   "execution_count": 22,
   "metadata": {
    "collapsed": false,
    "deletable": true,
    "editable": true
   },
   "outputs": [
    {
     "name": "stdout",
     "output_type": "stream",
     "text": [
      "data 3\n",
      "learning 3\n",
      "java 3\n",
      "big 3\n",
      "python 3\n",
      "networks 2\n",
      "machine 2\n",
      "probability 2\n",
      "neural 2\n",
      "hbase 2\n",
      "scikit-learn 2\n",
      "hadoop 2\n",
      "cassandra 2\n",
      "statistics 2\n",
      "regression 2\n",
      "r 2\n"
     ]
    }
   ],
   "source": [
    "words_and_counts = Counter(word\n",
    "                           for user, interest in interests\n",
    "                           for word in interest.lower().split())\n",
    "\n",
    "# 이중에서 두 번 이상 등장하는 단어들만 출력\n",
    "for word, count in words_and_counts.most_common():\n",
    "\tif count > 1:\n",
    "\t\tprint (word, count)"
   ]
  },
  {
   "cell_type": "markdown",
   "metadata": {
    "deletable": true,
    "editable": true
   },
   "source": [
    "위 데이터에서 주제를 뽑는 방법은 20장 \"자연어 처리\"에서 다룬다."
   ]
  }
 ],
 "metadata": {
  "kernelspec": {
   "display_name": "Python 3",
   "language": "python",
   "name": "python3"
  },
  "language_info": {
   "codemirror_mode": {
    "name": "ipython",
    "version": 3.0
   },
   "file_extension": ".py",
   "mimetype": "text/x-python",
   "name": "python",
   "nbconvert_exporter": "python",
   "pygments_lexer": "ipython3",
   "version": "3.5.2"
  }
 },
 "nbformat": 4,
 "nbformat_minor": 0
}