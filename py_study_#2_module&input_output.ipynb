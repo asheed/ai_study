{
 "cells": [
  {
   "cell_type": "markdown",
   "metadata": {
    "collapsed": true
   },
   "source": [
    "# Module"
   ]
  },
  {
   "cell_type": "markdown",
   "metadata": {},
   "source": [
    "## 모듈이란?\n",
    " - 함수는 하나의 파일 내에서 손쉽게 코드를 재사용하는 방법\n",
    " - 그렇다면 여러 함수들뿐만 아니라 변수, 클래스들을 한꺼번에 불러들여 재사용하는 방법은?\n",
    " - 이럴때 모듈을 사용함"
   ]
  },
  {
   "cell_type": "markdown",
   "metadata": {},
   "source": [
    "### 모듈 만들고 불러 보기"
   ]
  },
  {
   "cell_type": "code",
   "execution_count": 8,
   "metadata": {},
   "outputs": [],
   "source": [
    "# mod1.py\n",
    "def sum(a, b):\n",
    "\treturn a + b"
   ]
  },
  {
   "cell_type": "markdown",
   "metadata": {},
   "source": [
    "이 파일과 같은 위치에서 인터프리터를 실행하고 아래와 같이 실행해보자. \n",
    "<pre>>>> import mod1\n",
    ">>> print(mod1.sum(3,4))\n",
    "7</pre>"
   ]
  },
  {
   "cell_type": "markdown",
   "metadata": {},
   "source": [
    "import는 미리 만들어져 있는 파이썬 모듈을 사용할 수 있게 해주는 명령어이다.\n",
    "import의 사용법은 다음과 같다.\n",
    "> import 모듈이름"
   ]
  },
  {
   "cell_type": "code",
   "execution_count": 10,
   "metadata": {},
   "outputs": [
    {
     "name": "stdout",
     "output_type": "stream",
     "text": [
      "더할수 있는 것이 아닙니다.\nNone\n5\n20.4\n__main__\n"
     ]
    }
   ],
   "source": [
    "# mod1.py \n",
    "def sum(a, b): \n",
    "    return a+b\n",
    "\n",
    "def safe_sum(a, b): \n",
    "    if type(a) != type(b): \n",
    "        print(\"더할수 있는 것이 아닙니다.\")\n",
    "        return \n",
    "    else: \n",
    "        result = sum(a, b) \n",
    "    return result\n",
    "\n",
    "if __name__ == \"__main__\":\n",
    "\tprint(safe_sum('a', 1))\n",
    "\tprint(safe_sum(1, 4))\n",
    "\tprint(sum(10, 10.4))\n",
    "\tprint(__name__)"
   ]
  },
  {
   "cell_type": "code",
   "execution_count": null,
   "metadata": {},
   "outputs": [],
   "source": [
    "# mod1.py\n",
    "def sum(a, b):\n",
    "\treturn a + b\n",
    "\n",
    "def safe_sum(a, b): \n",
    "    if type(a) != type(b): \n",
    "        print(\"더할수 있는 것이 아닙니다.\")\n",
    "        return \n",
    "    else: \n",
    "        result = sum(a, b) \n",
    "    return result"
   ]
  },
  {
   "cell_type": "markdown",
   "metadata": {},
   "source": [
    "또 다시 import를 한 후, 새로 추가한 함수를 호출할 수 있다.\n",
    "<pre>\n",
    ">>> import mod1\n",
    ">>> print(mod1.safe_sum(3,4))\n",
    "7\n",
    ">>> print(mod1.safe_sum(1, 'a')\n",
    "더할 수 있는 것이 아닙니다.\n",
    "None\n",
    ">>> \n",
    "</pre>"
   ]
  },
  {
   "cell_type": "markdown",
   "metadata": {},
   "source": [
    "#### Note\n",
    "위와 같이 그냥 mod1.py에 함수를 추가한뒤, import mod1을 실행한후, mode1.safe_sum(3,4)를 호출하면 아래와 같이 에러가 발생한다.\n",
    "파이썬은 효율성의 이유로 하나의 인터프리터 세션에서 한번만 import 되도록 되어 있다고 한다. 따라서, 변경된 모듈을 인식하려면, 인터프리터를 재시작하거나, 아래와 같이 importlib 모듈을 사용하면된다.:)\n",
    "```\n",
    ">>> import mod1\n",
    ">>> print(mod1.safe_sum(3,4))\n",
    "Traceback (most recent call last):\n",
    "  File \"C:\\Users\\woojin\\ml_venv\\lib\\site-packages\\IPython\\core\\interactiveshell.py\", line 2881, in run_code\n",
    "    exec(code_obj, self.user_global_ns, self.user_ns)\n",
    "  File \"<ipython-input-5-61f00c3e6b60>\", line 1, in <module>\n",
    "    print(mod1.safe_sum(3,4))\n",
    "AttributeError: module 'mod1' has no attribute 'safe_sum'\n",
    ">>> import importlib\n",
    ">>> importlib.reload(mod1)\n",
    "Out[7]: <module 'mod1' from 'C:\\\\Users\\\\woojin\\\\PycharmProjects\\\\ai_study\\\\mod1.py'>\n",
    ">>> print(mod1.safe_sum(3,4))\n",
    "7\n",
    "```"
   ]
  },
  {
   "cell_type": "markdown",
   "metadata": {},
   "source": [
    "### 모듈 함수를 사용하는 또 다른 방법\n",
    " - 위와 같이 mod1.sum, mod1.safe_sum 과 같이 호출하는 방법은 매우 번거롭다.\n",
    " - 그냥 sum, safe_sum 과 같이 쓸수 없나?\n",
    " - 그럴때는 아래와 같은 형태로 사용한다.\n",
    "> from 모듈이름 import 모듈함수\n",
    " - mod1에 적용해 보면 아래와 같다.\n",
    "<pre>\n",
    ">>> from mod1 import sum\n",
    ">>> sum(3, 4)\n",
    "7\n",
    "</pre>\n",
    " - 그런데 위와 같이 하면 sum 함수만 사용가능하다. safe_sum도 사용하고 싶으면 어떻게 해야 할까?\n",
    " - 2가지 방법이 있다.\n",
    "> from mod1 import sum, safe_sum\n",
    "<br>\n",
    "> from mod1 import *\n"
   ]
  },
  {
   "cell_type": "markdown",
   "metadata": {},
   "source": [
    "<pre>if __name__ == \"__main__\": 의 의미?</pre>"
   ]
  },
  {
   "cell_type": "code",
   "execution_count": null,
   "metadata": {},
   "outputs": [],
   "source": [
    "# mod1.py \n",
    "def sum(a, b): \n",
    "    return a+b\n",
    "\n",
    "def safe_sum(a, b): \n",
    "    if type(a) != type(b): \n",
    "        print(\"더할수 있는 것이 아닙니다.\")\n",
    "        return \n",
    "    else: \n",
    "        result = sum(a, b) \n",
    "    return result \n",
    "\n",
    "print(safe_sum('a', 1))\n",
    "print(safe_sum(1, 4))\n",
    "print(sum(10, 10.4))"
   ]
  },
  {
   "cell_type": "markdown",
   "metadata": {},
   "source": [
    "실행하면 다음과 같이 우리가 기대했던 결과가 나온다.\n",
    "<pre>C:\\python mod1.py\n",
    "더할수 있는 것이 아닙니다.\n",
    "None\n",
    "5\n",
    "20.4\n",
    "</pre>\n",
    "\n",
    "**그런데 문제는 우리가 이전과 같이 sum, safe_sum 함수만 사용하기 위해 import를 할 때 발생한다.**"
   ]
  },
  {
   "cell_type": "markdown",
   "metadata": {
    "collapsed": true
   },
   "source": [
    "```\n",
    ">>> import mod1\n",
    "더할수 있는 것이 아닙니다.\n",
    "None\n",
    "5\n",
    "20.4\n",
    "``` "
   ]
  },
  {
   "cell_type": "markdown",
   "metadata": {},
   "source": [
    ""
   ]
  },
  {
   "cell_type": "code",
   "execution_count": 10,
   "metadata": {},
   "outputs": [
    {
     "name": "stdout",
     "output_type": "stream",
     "text": [
      "더할수 있는 것이 아닙니다.\nNone\n5\n20.4\n__main__\n"
     ]
    }
   ],
   "source": [
    "# mod1.py \n",
    "def sum(a, b): \n",
    "    return a+b\n",
    "\n",
    "def safe_sum(a, b): \n",
    "    if type(a) != type(b): \n",
    "        print(\"더할수 있는 것이 아닙니다.\")\n",
    "        return \n",
    "    else: \n",
    "        result = sum(a, b) \n",
    "    return result\n",
    "\n",
    "if __name__ == \"__main__\":\n",
    "\tprint(safe_sum('a', 1))\n",
    "\tprint(safe_sum(1, 4))\n",
    "\tprint(sum(10, 10.4))\n",
    "\tprint(__name__)"
   ]
  },
  {
   "cell_type": "markdown",
   "metadata": {},
   "source": [
    "즉, python mod1.py 로 실행했을때는 __name__ 의 값이 \"__main__\" 이 되어 print 문이 실행이 되었고\n",
    "반대로 인터프리터나 다른 파일에서 import를 사용하여 모듈을 불러와서 사용할 때는 __name__ 값이 거짓이 되어 print 문이 실행이 되지 않음을 알 수 있다."
   ]
  },
  {
   "cell_type": "markdown",
   "metadata": {},
   "source": [
    ""
   ]
  }
 ],
 "metadata": {
  "kernelspec": {
   "display_name": "Python 3.4",
   "language": "python",
   "name": "python2"
  },
  "language_info": {
   "codemirror_mode": {
    "name": "ipython",
    "version": 3.0
   },
   "file_extension": ".py",
   "mimetype": "text/x-python",
   "name": "python",
   "nbconvert_exporter": "python",
   "pygments_lexer": "ipython3",
   "version": "3.4.3"
  }
 },
 "nbformat": 4,
 "nbformat_minor": 0
}