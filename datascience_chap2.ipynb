{
 "cells": [
  {
   "cell_type": "markdown",
   "metadata": {},
   "source": [
    "# 2. 파이썬 속성 강좌"
   ]
  },
  {
   "cell_type": "markdown",
   "metadata": {},
   "source": [
    "## 2.1 기본기 다지기"
   ]
  },
  {
   "cell_type": "markdown",
   "metadata": {},
   "source": [
    "### 2.1.1 파이썬 설치하기"
   ]
  },
  {
   "cell_type": "markdown",
   "metadata": {},
   "source": [
    "- 데이터 과학을 하는데 필요한 대부분의 라이브러리들이 이미 설치되어 있는 아나콘다(Anaconda) 배포판을 설치하는 것도 좋다.\n",
    "- python2 또는 3을 중 원하는 것을 설치해도 된다.\n",
    "> 이제 대세는 python3으로 가고 있다."
   ]
  },
  {
   "cell_type": "markdown",
   "metadata": {},
   "source": [
    "|배포판 이름 | 주소 |\n",
    "|---------|:-----------------------------|\n",
    "|Anaconda |https://store.continuum.io/cshop/anaconda/|\n",
    "|Python(x,y) |https://code.google.com/p/pythonxy/ |\n",
    "|Enthought Canopy |https://www.enthought.com/products/epd/ |\n",
    "|WinPython |http://winpython.github.io/ |"
   ]
  },
  {
   "cell_type": "markdown",
   "metadata": {},
   "source": [
    "### 2.1.3 들여쓰기\n",
    "파이썬은 중괄호(curly braces, {})를 사용하지 않는다."
   ]
  },
  {
   "cell_type": "code",
   "execution_count": 5,
   "metadata": {
    "collapsed": false
   },
   "outputs": [
    {
     "name": "stdout",
     "output_type": "stream",
     "text": [
      "1번째 행\n",
      "2\n",
      "3\n",
      "4\n",
      "5\n",
      "6\n",
      "2번째 행\n",
      "3\n",
      "4\n",
      "5\n",
      "6\n",
      "7\n",
      "3번째 행\n",
      "4\n",
      "5\n",
      "6\n",
      "7\n",
      "8\n",
      "4번째 행\n",
      "5\n",
      "6\n",
      "7\n",
      "8\n",
      "9\n",
      "5번째 행\n",
      "6\n",
      "7\n",
      "8\n",
      "9\n",
      "10\n",
      "done looping\n"
     ]
    }
   ],
   "source": [
    "for i in [1, 2, 3, 4, 5]:\n",
    "    print(str(i)+\"번째 행\")\n",
    "    for j in [1, 2, 3, 4, 5]:\n",
    "        #print(j,)\n",
    "        print(i+j)\n",
    "    #print(i)\n",
    "print(\"done looping\")"
   ]
  },
  {
   "cell_type": "markdown",
   "metadata": {},
   "source": [
    "- 이 덕분에 파이썬의 가독성은 매우 좋아졌지만, 코드 형태에 상당히 조심해야 한다.\n",
    "- 공백문자는 소괄호와 대괄호 안에서는 무시되므로 아래와 같이 긴계산을 하거나, 코드의 가독성을 높이는데 유용하게 쓸 수 있다."
   ]
  },
  {
   "cell_type": "code",
   "execution_count": 7,
   "metadata": {
    "collapsed": true
   },
   "outputs": [],
   "source": [
    "long_winded_computation = (1 + 2 + 3 + 4 + 5 + 6 + 7 + 8 + 9 + 10 + 11 + 12 +\n",
    "                          13 + 14 + 15 + 16 + 17 + 18 + 19 + 20)"
   ]
  },
  {
   "cell_type": "code",
   "execution_count": 8,
   "metadata": {
    "collapsed": true
   },
   "outputs": [],
   "source": [
    "list_of_lists = [[1, 2, 3], [4, 5, 6], [7, 8, 9]]\n",
    "easier_to_read_list_of_lists = [ [1, 2, 3],\n",
    "                                 [4, 5, 6],\n",
    "                                 [7, 8, 9] ]"
   ]
  },
  {
   "cell_type": "markdown",
   "metadata": {},
   "source": [
    "자주 사용하지 않지만, 역슬래시를 사용하면 명시적으로 코드가 다음줄로 이어짐을 알려줄 수 있다."
   ]
  },
  {
   "cell_type": "code",
   "execution_count": 9,
   "metadata": {
    "collapsed": true
   },
   "outputs": [],
   "source": [
    "two_plus_three = 2 + \\\n",
    "                 3"
   ]
  },
  {
   "cell_type": "markdown",
   "metadata": {
    "collapsed": true,
    "deletable": true,
    "editable": true
   },
   "source": [
    "### 2.1.4 모듈"
   ]
  },
  {
   "cell_type": "markdown",
   "metadata": {
    "deletable": true,
    "editable": true
   },
   "source": [
    "* 파이썬에 기본적으로 포함된 몇몇 기능과 각자 다운 받은 3rd party 패키지에 포함된 기능들은 파이썬을 실행시킬 때 함께 실행되지 않는다.\n",
    "    * 이 기능을 사용하기 위해서는 모듈을 불러오는 import 문을 사용해야 한다."
   ]
  },
  {
   "cell_type": "code",
   "execution_count": null,
   "metadata": {
    "collapsed": true,
    "deletable": true,
    "editable": true
   },
   "outputs": [],
   "source": [
    "import re\n",
    "my_regex = re.compile(\"[0-9]+\", re.I)\n",
    "print(my_regex)"
   ]
  },
  {
   "cell_type": "markdown",
   "metadata": {
    "deletable": true,
    "editable": true
   },
   "source": [
    "- 여기서 불러온 re는 정규표현식을 다룰 때 필요한 다양한 함수와 상수를 포함하고 있다.\n",
    "- 그 함수와 상수를 사용하기 위해서는 re 다음에 마침표(.)를 붙인 후 함수나 상수의 이름을 이어서 쓰면 된다.\n",
    "- 이미 re라는 이름을 사용하고 있다면 as 를 사용하여 별칭(alias)을 사용할 수 도 있다."
   ]
  },
  {
   "cell_type": "code",
   "execution_count": 3,
   "metadata": {
    "collapsed": true,
    "deletable": true,
    "editable": true
   },
   "outputs": [],
   "source": [
    "import re as regex\n",
    "my_regex = regex.compile(\"[0-9]+\", regex.I)\n",
    "print(my_regex)"
   ]
  },
  {
   "cell_type": "markdown",
   "metadata": {
    "deletable": true,
    "editable": true
   },
   "source": [
    "- 모듈의 이름이 복잡하거나 이름을 반복적으로 사용해야 할 경우에도 별칭을 사용한다.\n",
    "- 아래는 matplotlib라는 데이터 시각화 라이브러리로 다음과 같은 별칭을 관습적으로 사용한다."
   ]
  },
  {
   "cell_type": "code",
   "execution_count": 5,
   "metadata": {
    "collapsed": true,
    "deletable": true,
    "editable": true
   },
   "outputs": [],
   "source": [
    "import matplotlib.pyplot as plt"
   ]
  },
  {
   "cell_type": "markdown",
   "metadata": {
    "deletable": true,
    "editable": true
   },
   "source": [
    "- 모듈 하나에서 몇몇 특정 기능만 필요하다면, 전체 모듈을 불러오지 않고 해당 기능만 명시해서 불러올 수 있다."
   ]
  },
  {
   "cell_type": "code",
   "execution_count": 6,
   "metadata": {
    "collapsed": true,
    "deletable": true,
    "editable": true
   },
   "outputs": [],
   "source": [
    "from collections import defaultdict, Counter\n",
    "lookup = defaultdict(int)\n",
    "my_counter = Counter()"
   ]
  },
  {
   "cell_type": "markdown",
   "metadata": {
    "deletable": true,
    "editable": true
   },
   "source": [
    "- 가장 안좋은 습관은 모듈의 기능들을 통째로 불러와서 기존의 변수들을 덮어쓰는 것이다."
   ]
  },
  {
   "cell_type": "code",
   "execution_count": 7,
   "metadata": {
    "collapsed": false,
    "deletable": true,
    "editable": true
   },
   "outputs": [
    {
     "name": "stdout",
     "output_type": "stream",
     "text": [
      "<function match at 0x0000000002D14EA0>\n"
     ]
    }
   ],
   "source": [
    "match = 10\n",
    "from re import *\n",
    "print(match)"
   ]
  },
  {
   "cell_type": "markdown",
   "metadata": {},
   "source": [
    "### 2.1.5 연산\n",
    "- 파이썬 2.7에서는 5/2의 연산 결과로 2를 출력하는 정수 나눗셈(integer division)을 기본으로 사용한다.\n",
    "- 정수 나눗셈을 사용하지 않으려면 다음과 같은 코드를 파일의 첫 부분에서 선언하자.\n",
    "> python3는 상관없다."
   ]
  },
  {
   "cell_type": "code",
   "execution_count": null,
   "metadata": {
    "collapsed": true
   },
   "outputs": [],
   "source": [
    "from __future__ import division"
   ]
  },
  {
   "cell_type": "markdown",
   "metadata": {
    "deletable": true,
    "editable": true
   },
   "source": [
    "### 2.1.6 함수\n",
    "- 함수란, 0개 혹은 그 이상의 인자를 입력 받아 결과를 출력하는 규칙이다.\n",
    "- 파이썬에서는 def를 이용해 함수를 정의한다."
   ]
  },
  {
   "cell_type": "code",
   "execution_count": 17,
   "metadata": {
    "collapsed": false,
    "deletable": true,
    "editable": true
   },
   "outputs": [
    {
     "name": "stdout",
     "output_type": "stream",
     "text": [
      "Help on function double in module __main__:\n",
      "\n",
      "double(x)\n",
      "    이 곳은 함수에 대한 설명을 적어 놓는 공간이다.\n",
      "    예를 들어, \"이 함수는 입력된 변수에 2를 곱한 값을 출력해 준다\"\n",
      "    라는 설명을 추가할 수 있다.\n",
      "\n",
      "또는 아래와 같이 출력\n",
      "\n",
      "이 곳은 함수에 대한 설명을 적어 놓는 공간이다.\n",
      "\t예를 들어, \"이 함수는 입력된 변수에 2를 곱한 값을 출력해 준다\"\n",
      "\t라는 설명을 추가할 수 있다.\n"
     ]
    }
   ],
   "source": [
    "def double(x):\n",
    "\t\"\"\"이 곳은 함수에 대한 설명을 적어 놓는 공간이다.\n",
    "\t예를 들어, \"이 함수는 입력된 변수에 2를 곱한 값을 출력해 준다\"\n",
    "\t라는 설명을 추가할 수 있다.\"\"\"\n",
    "\treturn x * 2\n",
    "\n",
    "help(double)\n",
    "print(\"또는 아래와 같이 출력\")\n",
    "print()\n",
    "print(double.__doc__)"
   ]
  },
  {
   "cell_type": "markdown",
   "metadata": {
    "deletable": true,
    "editable": true
   },
   "source": [
    "* 파이썬 함수들은 변수로 할당되거나 함수의 인자로 전달할 수 있으며, 이를 일급 클래스/객체(first-class)의 특성을 가진다고 한다.\n",
    " * [일급 객체 - 위키피디아](https://ko.wikipedia.org/wiki/%EC%9D%BC%EA%B8%89_%EA%B0%9D%EC%B2%B4)"
   ]
  },
  {
   "cell_type": "code",
   "execution_count": 18,
   "metadata": {
    "collapsed": false,
    "deletable": true,
    "editable": true
   },
   "outputs": [
    {
     "name": "stdout",
     "output_type": "stream",
     "text": [
      "결과는? 2\n"
     ]
    }
   ],
   "source": [
    "def apply_to_one(f):\n",
    "\t\"\"\"인자가 1인 함수 f를 호출하는 함수\"\"\"\n",
    "\treturn f(1)\n",
    "\n",
    "my_double = double        # 위에서 정의한 함수(double)를 my_double 로\n",
    "x = apply_to_one(my_double)\n",
    "print(\"결과는?\", x)"
   ]
  },
  {
   "cell_type": "markdown",
   "metadata": {
    "deletable": true,
    "editable": true
   },
   "source": [
    "* 짧은 익명의 람다 함수도 간편하게 만들수 있습니다."
   ]
  },
  {
   "cell_type": "code",
   "execution_count": 19,
   "metadata": {
    "collapsed": false,
    "deletable": true,
    "editable": true
   },
   "outputs": [
    {
     "name": "stdout",
     "output_type": "stream",
     "text": [
      "5\n"
     ]
    }
   ],
   "source": [
    "y = apply_to_one(lambda x: x + 4)\n",
    "print(y)"
   ]
  },
  {
   "cell_type": "markdown",
   "metadata": {
    "deletable": true,
    "editable": true
   },
   "source": [
    "- 변수에 람다 함수를 할당할 수도 있지만, 이 방법은 권장하지 않는다."
   ]
  },
  {
   "cell_type": "code",
   "execution_count": 20,
   "metadata": {
    "collapsed": true,
    "deletable": true,
    "editable": true
   },
   "outputs": [],
   "source": [
    "another_double = lambda x: 2 * x  # 최대한 피하자\n",
    "\n",
    "def another_double(x): return 2 * x # 대신 이렇게 작성하자"
   ]
  },
  {
   "cell_type": "markdown",
   "metadata": {
    "deletable": true,
    "editable": true
   },
   "source": [
    "### 2.1.7 문자열\n",
    "- r은 raw string을 의미한다."
   ]
  },
  {
   "cell_type": "code",
   "execution_count": 21,
   "metadata": {
    "collapsed": true,
    "deletable": true,
    "editable": true
   },
   "outputs": [],
   "source": [
    "tab_string = \"\\t\"\n",
    "len(tab_string)\n",
    "\n",
    "not_tab_string = r\"\\t\"   # 문자 '\\'와 't'를 나타내는 문자열\n",
    "len(not_tab_string)\n",
    "\n",
    "multi_line_string = \"\"\"This is the first line.\n",
    "and this is the second line\n",
    "and this is the third line\"\"\""
   ]
  },
  {
   "cell_type": "markdown",
   "metadata": {},
   "source": [
    "### 2.1.8 예외 처리"
   ]
  },
  {
   "cell_type": "code",
   "execution_count": 23,
   "metadata": {
    "collapsed": false
   },
   "outputs": [
    {
     "ename": "ZeroDivisionError",
     "evalue": "division by zero",
     "traceback": [
      "\u001b[0;31m---------------------------------------------------------------------------\u001b[0m",
      "\u001b[0;31mZeroDivisionError\u001b[0m                         Traceback (most recent call last)",
      "\u001b[0;32m<ipython-input-23-4f9ea8ea70f8>\u001b[0m in \u001b[0;36m<module>\u001b[0;34m()\u001b[0m\n\u001b[0;32m----> 1\u001b[0;31m \u001b[0mprint\u001b[0m\u001b[0;34m(\u001b[0m\u001b[0;36m0\u001b[0m\u001b[0;34m/\u001b[0m\u001b[0;36m0\u001b[0m\u001b[0;34m)\u001b[0m\u001b[0;34m\u001b[0m\u001b[0m\n\u001b[0m",
      "\u001b[0;31mZeroDivisionError\u001b[0m: division by zero"
     ],
     "output_type": "error"
    }
   ],
   "source": [
    "print(0/0)"
   ]
  },
  {
   "cell_type": "code",
   "execution_count": 22,
   "metadata": {
    "collapsed": false
   },
   "outputs": [
    {
     "name": "stdout",
     "output_type": "stream",
     "text": [
      "0으로 나눌수 없습니다.\n"
     ]
    }
   ],
   "source": [
    "try:\n",
    "    print(0/0)\n",
    "except ZeroDivisionError:\n",
    "    print(\"0으로 나눌수 없습니다.\")"
   ]
  },
  {
   "cell_type": "markdown",
   "metadata": {},
   "source": [
    "### 2.1.9 list\n",
    "- 파이썬의 가장 기본적인 데이터 구조\n",
    "- 순서가 있는 자료의 집합(collection)\n",
    "- 다른 언어의 array와 유사함"
   ]
  },
  {
   "cell_type": "code",
   "execution_count": 25,
   "metadata": {
    "collapsed": false
   },
   "outputs": [
    {
     "name": "stdout",
     "output_type": "stream",
     "text": [
      "3\n",
      "6\n"
     ]
    }
   ],
   "source": [
    "integer_list = [1, 2, 3]\n",
    "heterogeneous_list = [\"string\", 0.1, True]\n",
    "list_of_lists = [ integer_list, heterogeneous_list, [] ]\n",
    "\n",
    "list_length = len(integer_list)\n",
    "print(list_length)\n",
    "list_sum = sum(integer_list)\n",
    "print(list_sum)"
   ]
  },
  {
   "cell_type": "markdown",
   "metadata": {},
   "source": [
    "- 대괄호를 사용해 list의 n번째 값을 불러오거나 설정할 수 있다."
   ]
  },
  {
   "cell_type": "code",
   "execution_count": 28,
   "metadata": {
    "collapsed": false
   },
   "outputs": [],
   "source": [
    "x = range(10)\n",
    "zero = x[0]\n",
    "one = x[1]\n",
    "nine = x[-1]\n",
    "eight = x[-2]\n",
    "#x[0] = -1"
   ]
  },
  {
   "cell_type": "markdown",
   "metadata": {},
   "source": [
    "- 대괄호를 사용해서 list를 나눌 수도 있다."
   ]
  },
  {
   "cell_type": "code",
   "execution_count": 34,
   "metadata": {
    "collapsed": false
   },
   "outputs": [
    {
     "name": "stdout",
     "output_type": "stream",
     "text": [
      "range(0, 3)\n",
      "0\n",
      "1\n",
      "2\n",
      "range(3, 10)\n",
      "3\n",
      "4\n",
      "5\n",
      "6\n",
      "7\n",
      "8\n",
      "9\n",
      "7\n",
      "8\n",
      "9\n",
      "-----------------\n",
      "1\n",
      "2\n",
      "3\n",
      "4\n",
      "5\n",
      "6\n",
      "7\n",
      "8\n",
      "-----------------\n",
      "0\n",
      "1\n",
      "2\n",
      "3\n",
      "4\n",
      "5\n",
      "6\n",
      "7\n",
      "8\n",
      "9\n"
     ]
    }
   ],
   "source": [
    "first_three = x[:3]\n",
    "print(first_three)\n",
    "for i in first_three:\n",
    "    print(i)\n",
    "\n",
    "three_to_end = x[3:]\n",
    "print(three_to_end)\n",
    "for i in three_to_end:\n",
    "    print(i)\n",
    "    \n",
    "last_three = x[-3:]\n",
    "for i in last_three:\n",
    "    print(i)\n",
    "print(\"-----------------\")\n",
    "without_first_and_last = x[1:-1]\n",
    "for i in without_first_and_last:\n",
    "    print(i)\n",
    "print(\"-----------------\")\n",
    "copy_of_x = x[:]\n",
    "for i in copy_of_x:\n",
    "    print(i)"
   ]
  },
  {
   "cell_type": "code",
   "execution_count": 36,
   "metadata": {
    "collapsed": false
   },
   "outputs": [
    {
     "data": {
      "text/plain": [
       "True"
      ]
     },
     "execution_count": 36,
     "metadata": {},
     "output_type": "execute_result"
    }
   ],
   "source": [
    "1 in [1, 2, 3]"
   ]
  },
  {
   "cell_type": "code",
   "execution_count": 37,
   "metadata": {
    "collapsed": false
   },
   "outputs": [
    {
     "data": {
      "text/plain": [
       "False"
      ]
     },
     "execution_count": 37,
     "metadata": {},
     "output_type": "execute_result"
    }
   ],
   "source": [
    "0 in [1, 2, 3]"
   ]
  },
  {
   "cell_type": "markdown",
   "metadata": {},
   "source": [
    "- 위 방법은 list의 항목을 하나씩 모두 확인해 보기 때문에 list의 크기가 작을 때만(혹은 확인하는데 걸리는 시간이 상관없다면) 사용하자."
   ]
  },
  {
   "cell_type": "code",
   "execution_count": 39,
   "metadata": {
    "collapsed": false
   },
   "outputs": [
    {
     "name": "stdout",
     "output_type": "stream",
     "text": [
      "[1, 2, 3]\n",
      "[1, 2, 3, 4, 5, 6]\n"
     ]
    }
   ],
   "source": [
    "x = [1, 2, 3]\n",
    "print(x)\n",
    "x.extend([4, 5, 6])\n",
    "print(x)"
   ]
  },
  {
   "cell_type": "code",
   "execution_count": 40,
   "metadata": {
    "collapsed": false
   },
   "outputs": [
    {
     "name": "stdout",
     "output_type": "stream",
     "text": [
      "[1, 2, 3]\n",
      "[1, 2, 3, 4, 5, 6]\n"
     ]
    }
   ],
   "source": [
    "x = [1, 2, 3]\n",
    "y = x + [4, 5, 6]\n",
    "print(x)\n",
    "print(y)"
   ]
  },
  {
   "cell_type": "markdown",
   "metadata": {
    "collapsed": true
   },
   "source": [
    "- 주로 list에 항목을 하나씩 추가하는 경우가 많다."
   ]
  },
  {
   "cell_type": "code",
   "execution_count": 2,
   "metadata": {},
   "outputs": [
    {
     "name": "stdout",
     "output_type": "stream",
     "text": [
      "[1, 2, 3, 0]\n0\n4\n"
     ]
    }
   ],
   "source": [
    "x = [1, 2, 3]\n",
    "x.append(0)\n",
    "print(x)\n",
    "y = x[-1]\n",
    "print(y)\n",
    "print(len(x))"
   ]
  },
  {
   "cell_type": "markdown",
   "metadata": {},
   "source": [
    "- list 안에 몇 개의 항목이 존재하는지 알고 있다면 unpack을 이용하여 손쉽게 list를 풀 수도 있다.\n",
    "- 하지만 양쪽 항목의 갯수가 다르다면 ValueError가 발생한다.\n",
    "- 보통 버릴 항목은 밑줄(_)로 표시한다."
   ]
  },
  {
   "cell_type": "code",
   "execution_count": 4,
   "metadata": {},
   "outputs": [
    {
     "name": "stdout",
     "output_type": "stream",
     "text": [
      "1\n2\n"
     ]
    }
   ],
   "source": [
    "x, y = [1, 2]\n",
    "print(x)\n",
    "print(y)\n",
    "\n",
    "_, y = [1, 2]"
   ]
  },
  {
   "cell_type": "markdown",
   "metadata": {},
   "source": [
    "### 2.1.10 tuple\n",
    "- tuple은 변경할 수 없는 list.\n",
    "- list에서 수정을 제외한 모든 기능을 tuple에 적용할 수 있다.\n",
    "- tuple은대괄호 대신 괄호를 사용해서 (혹은 아무런 기호 없이) 정의한다."
   ]
  },
  {
   "cell_type": "code",
   "execution_count": 6,
   "metadata": {
    "collapsed": true
   },
   "outputs": [
    {
     "name": "stdout",
     "output_type": "stream",
     "text": [
      "tuple은 수정할 수 없습니다.\n"
     ]
    }
   ],
   "source": [
    "my_list = [1, 2]\n",
    "my_tuple = (1, 2)\n",
    "\n",
    "other_tuple = 3, 4\n",
    "my_list[1] = 3\n",
    "\n",
    "try:\n",
    "    my_tuple[1] = 3\n",
    "except:\n",
    "    print(\"tuple은 수정할 수 없습니다.\")"
   ]
  },
  {
   "cell_type": "markdown",
   "metadata": {},
   "source": [
    "- 함수에서 여러 값을 반환할 때 tuple을 사용하면 편리함.\n"
   ]
  },
  {
   "cell_type": "code",
   "execution_count": 8,
   "metadata": {},
   "outputs": [
    {
     "name": "stdout",
     "output_type": "stream",
     "text": [
      "(5, 6)\n11 30\n<class 'int'>\n<class 'int'>\n"
     ]
    }
   ],
   "source": [
    "def sum_and_product(x, y):\n",
    "    return (x + y),(x * y)\n",
    "\n",
    "sp = sum_and_product(2, 3)\n",
    "print(sp)\n",
    "s, p = sum_and_product(5, 6)\n",
    "print(s, p)\n",
    "\n",
    "x, y = 1, 2\n",
    "print(type(x))\n",
    "print(type(y))\n",
    "x, y = y, x"
   ]
  },
  {
   "cell_type": "markdown",
   "metadata": {},
   "source": [
    "### 2.1.11 dict"
   ]
  },
  {
   "cell_type": "code",
   "execution_count": 9,
   "metadata": {},
   "outputs": [
    {
     "name": "stdout",
     "output_type": "stream",
     "text": [
      "No grade for Kate!\n"
     ]
    }
   ],
   "source": [
    "empty_dict = {}     # 가장 파이썬스럽게 dict를 만드는 방법\n",
    "empty_dict2 = dict() # 덜 파이썬스럽게 dict를 만드는 방법\n",
    "\n",
    "grades = { \"Joel\" : 80, \"Tim\" : 95 }\n",
    "\n",
    "joels_grade = grades[\"Joel\"]\n",
    "\n",
    "try:\n",
    "    kates_grade = grades[\"Kate\"]\n",
    "except KeyError:\n",
    "    print(\"No grade for Kate!\")"
   ]
  },
  {
   "cell_type": "code",
   "execution_count": null,
   "metadata": {},
   "outputs": [],
   "source": [
    ""
   ]
  },
  {
   "cell_type": "markdown",
   "metadata": {},
   "source": [
    "\n"
   ]
  },
  {
   "cell_type": "markdown",
   "metadata": {},
   "source": [
    ""
   ]
  }
 ],
 "metadata": {
  "kernelspec": {
   "display_name": "Python 3",
   "language": "python",
   "name": "python3"
  },
  "language_info": {
   "codemirror_mode": {
    "name": "ipython",
    "version": 3.0
   },
   "file_extension": ".py",
   "mimetype": "text/x-python",
   "name": "python",
   "nbconvert_exporter": "python",
   "pygments_lexer": "ipython3",
   "version": "3.5.2"
  }
 },
 "nbformat": 4,
 "nbformat_minor": 0
}