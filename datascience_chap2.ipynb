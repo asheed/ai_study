{
 "cells": [
  {
   "cell_type": "markdown",
   "metadata": {
    "collapsed": true
   },
   "source": [
    "## 2.1.4 모듈"
   ]
  },
  {
   "cell_type": "markdown",
   "metadata": {},
   "source": [
    "- 파이썬에 기본적으로 포함된 몇몇 기능과 각자 다운 받은 3rd party 패키지에 포함된 기능들은 파이썬을 실행시킬 때 함께 실행되지 않는다.\n",
    " - 이 기능을 사용하기 위해서는 모듈을 불러오는 import 문을 사용해야 한다."
   ]
  },
  {
   "cell_type": "code",
   "execution_count": 6,
   "metadata": {},
   "outputs": [
    {
     "name": "stdout",
     "output_type": "stream",
     "text": [
      "re.compile('[0-9]+', re.IGNORECASE)\n"
     ]
    }
   ],
   "source": [
    "import re\n",
    "my_regex = re.compile(\"[0-9]+\", re.I)\n",
    "print(my_regex)"
   ]
  },
  {
   "cell_type": "markdown",
   "metadata": {},
   "source": [
    "- 여기서 불러온 re는 정규표현식을 다룰 때 필요한 다양한 함수와 상수를 포함하고 있다.\n",
    "- 그 함수와 상수를 사용하기 위해서는 re 다음에 마침표(.)를 붙인 후 함수나 상수의 이름을 이어서 쓰면 된다.\n",
    "- 이미 re라는 이름을 사용하고 있다면 as 를 사용하여 별칭(alias)을 사용할 수 도 있다."
   ]
  },
  {
   "cell_type": "code",
   "execution_count": 7,
   "metadata": {},
   "outputs": [
    {
     "name": "stdout",
     "output_type": "stream",
     "text": [
      "re.compile('[0-9]+', re.IGNORECASE)\n"
     ]
    }
   ],
   "source": [
    "import re as regex\n",
    "my_regex = regex.compile(\"[0-9]+\", regex.I)\n",
    "print(my_regex)"
   ]
  },
  {
   "cell_type": "markdown",
   "metadata": {},
   "source": [
    "- 모듈의 이름이 복잡하거나 이름을 반복적으로 사용해야 할 경우에도 별칭을 사용한다.\n",
    "- 아래는 matplotlib라는 데이터 시각화 라이브러리로 다음과 같은 별칭을 관습적으로 사용한다."
   ]
  },
  {
   "cell_type": "code",
   "execution_count": 8,
   "metadata": {},
   "outputs": [],
   "source": [
    "import matplotlib.pyplot as plt"
   ]
  },
  {
   "cell_type": "markdown",
   "metadata": {},
   "source": [
    "- 모듈 하나에서 몇몇 특정 기능만 필요하다면, 전체 모듈을 불러오지 않고 해당 기능만 명시해서 불러올 수 있다."
   ]
  },
  {
   "cell_type": "code",
   "execution_count": 9,
   "metadata": {},
   "outputs": [],
   "source": [
    "from collections import defaultdict, Counter\n",
    "lookup = defaultdict(int)\n",
    "my_counter = Counter()"
   ]
  },
  {
   "cell_type": "markdown",
   "metadata": {},
   "source": [
    "- 가장 안좋은 습관은 모듈의 기능들을 통째로 불러와서 기존의 변수들을 덮어쓰는 것이다."
   ]
  },
  {
   "cell_type": "code",
   "execution_count": 10,
   "metadata": {},
   "outputs": [
    {
     "name": "stdout",
     "output_type": "stream",
     "text": [
      "<function match at 0x0000000002824EA0>\n"
     ]
    }
   ],
   "source": [
    "match = 10\n",
    "from re import *\n",
    "print(match)"
   ]
  },
  {
   "cell_type": "markdown",
   "metadata": {},
   "source": [
    "## 2.1.6 함수"
   ]
  },
  {
   "cell_type": "markdown",
   "metadata": {},
   "source": [
    "- 함수란, 0개 혹은 그 이상의 인자를 입력 받아 결과를 출력하는 규칙이다.\n",
    "- 파이썬에서는 def를 이용해 함수를 정의한다."
   ]
  },
  {
   "cell_type": "code",
   "execution_count": 23,
   "metadata": {},
   "outputs": [
    {
     "name": "stdout",
     "output_type": "stream",
     "text": [
      "Help on function double in module __main__:\n\ndouble(x)\n    이 곳은 함수에 대한 설명을 적어 놓는 공간이다.\n    예를 들어, \"이 함수는 입력된 변수에 2를 곱한 값을 출력해 준다\"\n    라는 설명을 추가할 수 있다.\n\n또는 아래와 같이 출력\n\n이 곳은 함수에 대한 설명을 적어 놓는 공간이다.\n\t예를 들어, \"이 함수는 입력된 변수에 2를 곱한 값을 출력해 준다\"\n\t라는 설명을 추가할 수 있다.\n"
     ]
    }
   ],
   "source": [
    "def double(x):\n",
    "\t\"\"\"이 곳은 함수에 대한 설명을 적어 놓는 공간이다.\n",
    "\t예를 들어, \"이 함수는 입력된 변수에 2를 곱한 값을 출력해 준다\"\n",
    "\t라는 설명을 추가할 수 있다.\"\"\"\n",
    "\treturn x * 2\n",
    "\n",
    "help(double)\n",
    "print(\"또는 아래와 같이 출력\")\n",
    "print()\n",
    "print(double.__doc__)"
   ]
  },
  {
   "cell_type": "markdown",
   "metadata": {},
   "source": [
    "* 파이썬 함수들은 변수로 할당되거나 함수의 인자로 전달할 수 있으며, 이를 일급 클래스/객체(first-class)의 특성을 가진다고 한다.\n",
    " * [일급 객체 - 위키피디아](https://ko.wikipedia.org/wiki/%EC%9D%BC%EA%B8%89_%EA%B0%9D%EC%B2%B4)"
   ]
  },
  {
   "cell_type": "code",
   "execution_count": 25,
   "metadata": {},
   "outputs": [
    {
     "name": "stdout",
     "output_type": "stream",
     "text": [
      "결과는? 2\n"
     ]
    }
   ],
   "source": [
    "def apply_to_one(f):\n",
    "\t\"\"\"인자가 1인 함수 f를 호출하는 함수\"\"\"\n",
    "\treturn f(1)\n",
    "\n",
    "my_double = double        # 위에서 정의한 함수(double)를 my_double 로\n",
    "x = apply_to_one(my_double)\n",
    "print(\"결과는?\", x)"
   ]
  },
  {
   "cell_type": "markdown",
   "metadata": {},
   "source": [
    "* 짧은 익명의 람다 함수도 간편하게 만들수 있습니다."
   ]
  },
  {
   "cell_type": "code",
   "execution_count": 26,
   "metadata": {},
   "outputs": [
    {
     "name": "stdout",
     "output_type": "stream",
     "text": [
      "5\n"
     ]
    }
   ],
   "source": [
    "y = apply_to_one(lambda x: x + 4)\n",
    "print(y)"
   ]
  },
  {
   "cell_type": "markdown",
   "metadata": {},
   "source": [
    "- 변수에 람다 함수를 할당할 수도 있지만, 이 방법은 권장하지 않는다."
   ]
  },
  {
   "cell_type": "code",
   "execution_count": 27,
   "metadata": {},
   "outputs": [],
   "source": [
    "another_double = lambda x: 2 * x  # 최대한 피하자\n",
    "\n",
    "def another_double(x): return 2 * x # 대신 이렇게 작성하자"
   ]
  },
  {
   "cell_type": "markdown",
   "metadata": {},
   "source": [
    ""
   ]
  }
 ],
 "metadata": {
  "kernelspec": {
   "display_name": "Python 2",
   "language": "python",
   "name": "python2"
  },
  "language_info": {
   "codemirror_mode": {
    "name": "ipython",
    "version": 2.0
   },
   "file_extension": ".py",
   "mimetype": "text/x-python",
   "name": "python",
   "nbconvert_exporter": "python",
   "pygments_lexer": "ipython2",
   "version": "2.7.6"
  }
 },
 "nbformat": 4,
 "nbformat_minor": 0
}