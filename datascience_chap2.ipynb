{
 "cells": [
  {
   "cell_type": "markdown",
   "metadata": {},
   "source": [
    "# 2. 파이썬 속성 강좌\n",
    "## 2.1 기본기 다지기\n",
    "### 2.1.1 파이썬 설치하기"
   ]
  },
  {
   "cell_type": "markdown",
   "metadata": {},
   "source": [
    "- 데이터 과학을 하는데 필요한 대부분의 라이브러리들이 이미 설치되어 있는 아나콘다(Anaconda) 배포판을 설치하는 것도 좋다.\n",
    "- python2 또는 3을 중 원하는 것을 설치해도 된다.\n",
    "> 이제 대세는 python3으로 가고 있다."
   ]
  },
  {
   "cell_type": "markdown",
   "metadata": {},
   "source": [
    "|배포판 이름 | 주소 |\n",
    "|---------|:-----------------------------|\n",
    "|Anaconda |https://store.continuum.io/cshop/anaconda/|\n",
    "|Python(x,y) |https://code.google.com/p/pythonxy/ |\n",
    "|Enthought Canopy |https://www.enthought.com/products/epd/ |\n",
    "|WinPython |http://winpython.github.io/ |"
   ]
  },
  {
   "cell_type": "markdown",
   "metadata": {},
   "source": [
    "### 2.1.3 들여쓰기\n",
    "파이썬은 중괄호(curly braces, {})를 사용하지 않는다."
   ]
  },
  {
   "cell_type": "code",
   "execution_count": 1,
   "metadata": {
    "collapsed": false
   },
   "outputs": [
    {
     "name": "stdout",
     "output_type": "stream",
     "text": [
      "1번째 행\n2\n3\n4\n5\n6\n2번째 행\n3\n4\n5\n6\n7\n3번째 행\n4\n5\n6\n7\n8\n4번째 행\n5\n6\n7\n8\n9\n5번째 행\n6\n7\n8\n9\n10\ndone looping\n"
     ]
    }
   ],
   "source": [
    "for i in [1, 2, 3, 4, 5]:\n",
    "    print(str(i)+\"번째 행\")\n",
    "    for j in [1, 2, 3, 4, 5]:\n",
    "        #print(j,)\n",
    "        print(i+j)\n",
    "    #print(i)\n",
    "print(\"done looping\")"
   ]
  },
  {
   "cell_type": "markdown",
   "metadata": {},
   "source": [
    "- 이 덕분에 파이썬의 가독성은 매우 좋아졌지만, 코드 형태에 상당히 조심해야 한다.\n",
    "- 공백문자는 소괄호와 대괄호 안에서는 무시되므로 아래와 같이 긴계산을 하거나, 코드의 가독성을 높이는데 유용하게 쓸 수 있다."
   ]
  },
  {
   "cell_type": "code",
   "execution_count": 2,
   "metadata": {
    "collapsed": true
   },
   "outputs": [],
   "source": [
    "long_winded_computation = (1 + 2 + 3 + 4 + 5 + 6 + 7 + 8 + 9 + 10 + 11 + 12 +\n",
    "                          13 + 14 + 15 + 16 + 17 + 18 + 19 + 20)"
   ]
  },
  {
   "cell_type": "code",
   "execution_count": 3,
   "metadata": {
    "collapsed": true
   },
   "outputs": [],
   "source": [
    "list_of_lists = [[1, 2, 3], [4, 5, 6], [7, 8, 9]]\n",
    "easier_to_read_list_of_lists = [ [1, 2, 3],\n",
    "                                 [4, 5, 6],\n",
    "                                 [7, 8, 9] ]"
   ]
  },
  {
   "cell_type": "markdown",
   "metadata": {},
   "source": [
    "자주 사용하지 않지만, 역슬래시를 사용하면 명시적으로 코드가 다음줄로 이어짐을 알려줄 수 있다."
   ]
  },
  {
   "cell_type": "code",
   "execution_count": 4,
   "metadata": {
    "collapsed": true
   },
   "outputs": [],
   "source": [
    "two_plus_three = 2 + \\\n",
    "                 3"
   ]
  },
  {
   "cell_type": "markdown",
   "metadata": {
    "collapsed": true,
    "deletable": true,
    "editable": true
   },
   "source": [
    "### 2.1.4 모듈"
   ]
  },
  {
   "cell_type": "markdown",
   "metadata": {
    "deletable": true,
    "editable": true
   },
   "source": [
    "* 파이썬에 기본적으로 포함된 몇몇 기능과 각자 다운 받은 3rd party 패키지에 포함된 기능들은 파이썬을 실행시킬 때 함께 실행되지 않는다.\n",
    "* 이 기능을 사용하기 위해서는 모듈을 불러오는 import 문을 사용해야 한다."
   ]
  },
  {
   "cell_type": "code",
   "execution_count": 5,
   "metadata": {
    "collapsed": true,
    "deletable": true,
    "editable": true
   },
   "outputs": [
    {
     "name": "stdout",
     "output_type": "stream",
     "text": [
      "re.compile('[0-9]+', re.IGNORECASE)\n"
     ]
    }
   ],
   "source": [
    "import re\n",
    "my_regex = re.compile(\"[0-9]+\", re.I)\n",
    "print(my_regex)"
   ]
  },
  {
   "cell_type": "markdown",
   "metadata": {
    "deletable": true,
    "editable": true
   },
   "source": [
    "- 여기서 불러온 re는 정규표현식을 다룰 때 필요한 다양한 함수와 상수를 포함하고 있다.\n",
    "- 그 함수와 상수를 사용하기 위해서는 re 다음에 마침표(.)를 붙인 후 함수나 상수의 이름을 이어서 쓰면 된다.\n",
    "- 이미 re라는 이름을 사용하고 있다면 as 를 사용하여 별칭(alias)을 사용할 수 도 있다."
   ]
  },
  {
   "cell_type": "code",
   "execution_count": 6,
   "metadata": {
    "collapsed": true,
    "deletable": true,
    "editable": true
   },
   "outputs": [
    {
     "name": "stdout",
     "output_type": "stream",
     "text": [
      "re.compile('[0-9]+', re.IGNORECASE)\n"
     ]
    }
   ],
   "source": [
    "import re as regex\n",
    "my_regex = regex.compile(\"[0-9]+\", regex.I)\n",
    "print(my_regex)"
   ]
  },
  {
   "cell_type": "markdown",
   "metadata": {
    "deletable": true,
    "editable": true
   },
   "source": [
    "- 모듈의 이름이 복잡하거나 이름을 반복적으로 사용해야 할 경우에도 별칭을 사용한다.\n",
    "- 아래는 matplotlib라는 데이터 시각화 라이브러리로 다음과 같은 별칭을 관습적으로 사용한다."
   ]
  },
  {
   "cell_type": "code",
   "execution_count": 7,
   "metadata": {
    "collapsed": true,
    "deletable": true,
    "editable": true
   },
   "outputs": [],
   "source": [
    "import matplotlib.pyplot as plt"
   ]
  },
  {
   "cell_type": "markdown",
   "metadata": {
    "deletable": true,
    "editable": true
   },
   "source": [
    "- 모듈 하나에서 몇몇 특정 기능만 필요하다면, 전체 모듈을 불러오지 않고 해당 기능만 명시해서 불러올 수 있다."
   ]
  },
  {
   "cell_type": "code",
   "execution_count": 8,
   "metadata": {
    "collapsed": true,
    "deletable": true,
    "editable": true
   },
   "outputs": [],
   "source": [
    "from collections import defaultdict, Counter\n",
    "lookup = defaultdict(int)\n",
    "my_counter = Counter()"
   ]
  },
  {
   "cell_type": "markdown",
   "metadata": {
    "deletable": true,
    "editable": true
   },
   "source": [
    "- 가장 안좋은 습관은 모듈의 기능들을 통째로 불러와서 기존의 변수들을 덮어쓰는 것이다."
   ]
  },
  {
   "cell_type": "code",
   "execution_count": 9,
   "metadata": {
    "collapsed": false,
    "deletable": true,
    "editable": true
   },
   "outputs": [
    {
     "name": "stdout",
     "output_type": "stream",
     "text": [
      "<function match at 0x0000028AB6519730>\n"
     ]
    }
   ],
   "source": [
    "match = 10\n",
    "from re import *\n",
    "print(match)"
   ]
  },
  {
   "cell_type": "markdown",
   "metadata": {},
   "source": [
    "### 2.1.5 연산\n",
    "- 파이썬 2.7에서는 5/2의 연산 결과로 2를 출력하는 정수 나눗셈(integer division)을 기본으로 사용한다.\n",
    "- 정수 나눗셈을 사용하지 않으려면 다음과 같은 코드를 파일의 첫 부분에서 선언하자.\n",
    "> python3는 상관없다."
   ]
  },
  {
   "cell_type": "code",
   "execution_count": 10,
   "metadata": {
    "collapsed": true
   },
   "outputs": [],
   "source": [
    "from __future__ import division"
   ]
  },
  {
   "cell_type": "markdown",
   "metadata": {
    "deletable": true,
    "editable": true
   },
   "source": [
    "### 2.1.6 함수\n",
    "- 함수란, 0개 혹은 그 이상의 인자를 입력 받아 결과를 출력하는 규칙이다.\n",
    "- 파이썬에서는 def를 이용해 함수를 정의한다."
   ]
  },
  {
   "cell_type": "code",
   "execution_count": 11,
   "metadata": {
    "collapsed": false,
    "deletable": true,
    "editable": true
   },
   "outputs": [
    {
     "name": "stdout",
     "output_type": "stream",
     "text": [
      "Help on function double in module __main__:\n\ndouble(x)\n    이 곳은 함수에 대한 설명을 적어 놓는 공간이다.\n    예를 들어, \"이 함수는 입력된 변수에 2를 곱한 값을 출력해 준다\"\n    라는 설명을 추가할 수 있다.\n\n또는 아래와 같이 출력\n\n이 곳은 함수에 대한 설명을 적어 놓는 공간이다.\n\t예를 들어, \"이 함수는 입력된 변수에 2를 곱한 값을 출력해 준다\"\n\t라는 설명을 추가할 수 있다.\n"
     ]
    }
   ],
   "source": [
    "def double(x):\n",
    "\t\"\"\"이 곳은 함수에 대한 설명을 적어 놓는 공간이다.\n",
    "\t예를 들어, \"이 함수는 입력된 변수에 2를 곱한 값을 출력해 준다\"\n",
    "\t라는 설명을 추가할 수 있다.\"\"\"\n",
    "\treturn x * 2\n",
    "\n",
    "help(double)\n",
    "print(\"또는 아래와 같이 출력\")\n",
    "print()\n",
    "print(double.__doc__)"
   ]
  },
  {
   "cell_type": "markdown",
   "metadata": {
    "deletable": true,
    "editable": true
   },
   "source": [
    "* 파이썬 함수들은 변수로 할당되거나 함수의 인자로 전달할 수 있으며, 이를 일급 클래스/객체(first-class)의 특성을 가진다고 한다.\n",
    " * [일급 객체 - 위키피디아](https://ko.wikipedia.org/wiki/%EC%9D%BC%EA%B8%89_%EA%B0%9D%EC%B2%B4)"
   ]
  },
  {
   "cell_type": "code",
   "execution_count": 12,
   "metadata": {
    "collapsed": false,
    "deletable": true,
    "editable": true
   },
   "outputs": [
    {
     "name": "stdout",
     "output_type": "stream",
     "text": [
      "결과는? 2\n"
     ]
    }
   ],
   "source": [
    "def apply_to_one(f):\n",
    "\t\"\"\"인자가 1인 함수 f를 호출하는 함수\"\"\"\n",
    "\treturn f(1)\n",
    "\n",
    "my_double = double        # 위에서 정의한 함수(double)를 my_double 로\n",
    "x = apply_to_one(my_double)\n",
    "print(\"결과는?\", x)"
   ]
  },
  {
   "cell_type": "markdown",
   "metadata": {
    "deletable": true,
    "editable": true
   },
   "source": [
    "* 짧은 익명의 람다 함수도 간편하게 만들수 있습니다."
   ]
  },
  {
   "cell_type": "code",
   "execution_count": 13,
   "metadata": {
    "collapsed": false,
    "deletable": true,
    "editable": true
   },
   "outputs": [
    {
     "name": "stdout",
     "output_type": "stream",
     "text": [
      "5\n"
     ]
    }
   ],
   "source": [
    "y = apply_to_one(lambda x: x + 4)\n",
    "print(y)"
   ]
  },
  {
   "cell_type": "markdown",
   "metadata": {
    "deletable": true,
    "editable": true
   },
   "source": [
    "- 변수에 람다 함수를 할당할 수도 있지만, 이 방법은 권장하지 않는다."
   ]
  },
  {
   "cell_type": "code",
   "execution_count": 14,
   "metadata": {
    "collapsed": true,
    "deletable": true,
    "editable": true
   },
   "outputs": [],
   "source": [
    "another_double = lambda x: 2 * x  # 최대한 피하자\n",
    "\n",
    "def another_double(x): return 2 * x # 대신 이렇게 작성하자"
   ]
  },
  {
   "cell_type": "markdown",
   "metadata": {
    "deletable": true,
    "editable": true
   },
   "source": [
    "### 2.1.7 문자열\n",
    "- 파이썬은 몇몇 특수 문자를 인코딩할 때 역슬래시를 사용한다.\n",
    "- r은 raw string을 의미한다.\n",
    "- 세 개의 따옴표를 사용하면 하나의 문자열을 여러 줄로 나눠서 나타낼 수 있다."
   ]
  },
  {
   "cell_type": "code",
   "execution_count": 15,
   "metadata": {
    "collapsed": true,
    "deletable": true,
    "editable": true
   },
   "outputs": [],
   "source": [
    "tab_string = \"\\t\"\n",
    "len(tab_string)\n",
    "\n",
    "not_tab_string = r\"\\t\"   # 문자 '\\'와 't'를 나타내는 문자열\n",
    "len(not_tab_string)\n",
    "\n",
    "multi_line_string = \"\"\"This is the first line.\n",
    "and this is the second line\n",
    "and this is the third line\"\"\""
   ]
  },
  {
   "cell_type": "markdown",
   "metadata": {},
   "source": [
    "### 2.1.8 예외 처리"
   ]
  },
  {
   "cell_type": "code",
   "execution_count": 16,
   "metadata": {
    "collapsed": false
   },
   "outputs": [
    {
     "ename": "ZeroDivisionError",
     "evalue": "division by zero",
     "traceback": [
      "\u001b[0;31m---------------------------------------------------------------------------\u001b[0m",
      "\u001b[0;31mZeroDivisionError\u001b[0m                         Traceback (most recent call last)",
      "\u001b[0;32m<ipython-input-16-4f9ea8ea70f8>\u001b[0m in \u001b[0;36m<module>\u001b[0;34m()\u001b[0m\n\u001b[0;32m----> 1\u001b[0;31m \u001b[0mprint\u001b[0m\u001b[1;33m(\u001b[0m\u001b[1;36m0\u001b[0m\u001b[1;33m/\u001b[0m\u001b[1;36m0\u001b[0m\u001b[1;33m)\u001b[0m\u001b[1;33m\u001b[0m\u001b[0m\n\u001b[0m",
      "\u001b[0;31mZeroDivisionError\u001b[0m: division by zero"
     ],
     "output_type": "error"
    }
   ],
   "source": [
    "print(0/0)"
   ]
  },
  {
   "cell_type": "code",
   "execution_count": 17,
   "metadata": {
    "collapsed": false
   },
   "outputs": [
    {
     "name": "stdout",
     "output_type": "stream",
     "text": [
      "0으로 나눌수 없습니다.\n"
     ]
    }
   ],
   "source": [
    "try:\n",
    "    print(0/0)\n",
    "except ZeroDivisionError:\n",
    "    print(\"0으로 나눌수 없습니다.\")"
   ]
  },
  {
   "cell_type": "markdown",
   "metadata": {},
   "source": [
    "### 2.1.9 list\n",
    "- 파이썬의 가장 기본적인 데이터 구조\n",
    "- 순서가 있는 자료의 집합 (collection)\n",
    "- 다른 언어의 array와 유사하지만, list의 기능이 좀 더 풍부함."
   ]
  },
  {
   "cell_type": "code",
   "execution_count": 18,
   "metadata": {
    "collapsed": false
   },
   "outputs": [
    {
     "name": "stdout",
     "output_type": "stream",
     "text": [
      "3\n6\n"
     ]
    }
   ],
   "source": [
    "integer_list = [1, 2, 3]\n",
    "heterogeneous_list = [\"string\", 0.1, True]\n",
    "list_of_lists = [ integer_list, heterogeneous_list, [] ]\n",
    "\n",
    "list_length = len(integer_list)\n",
    "print(list_length)\n",
    "list_sum = sum(integer_list)\n",
    "print(list_sum)"
   ]
  },
  {
   "cell_type": "markdown",
   "metadata": {},
   "source": [
    "- 대괄호를 사용해 list의 n번째 값을 불러오거나 설정할 수 있다."
   ]
  },
  {
   "cell_type": "code",
   "execution_count": 19,
   "metadata": {
    "collapsed": false
   },
   "outputs": [],
   "source": [
    "x = range(10)\n",
    "zero = x[0]\n",
    "one = x[1]\n",
    "nine = x[-1]\n",
    "eight = x[-2]\n",
    "#x[0] = -1"
   ]
  },
  {
   "cell_type": "markdown",
   "metadata": {},
   "source": [
    "- 대괄호를 사용해서 list를 나눌 수도 있다. (slicing)"
   ]
  },
  {
   "cell_type": "code",
   "execution_count": 20,
   "metadata": {
    "collapsed": false
   },
   "outputs": [
    {
     "name": "stdout",
     "output_type": "stream",
     "text": [
      "range(0, 3)\n0\n1\n2\nrange(3, 10)\n3\n4\n5\n6\n7\n8\n9\n7\n8\n9\n-----------------\n1\n2\n3\n4\n5\n6\n7\n8\n-----------------\n0\n1\n2\n3\n4\n5\n6\n7\n8\n9\n"
     ]
    }
   ],
   "source": [
    "first_three = x[:3]\n",
    "print(first_three)\n",
    "for i in first_three:\n",
    "    print(i)\n",
    "\n",
    "three_to_end = x[3:]\n",
    "print(three_to_end)\n",
    "for i in three_to_end:\n",
    "    print(i)\n",
    "    \n",
    "last_three = x[-3:]\n",
    "for i in last_three:\n",
    "    print(i)\n",
    "print(\"-----------------\")\n",
    "without_first_and_last = x[1:-1]\n",
    "for i in without_first_and_last:\n",
    "    print(i)\n",
    "print(\"-----------------\")\n",
    "copy_of_x = x[:]\n",
    "for i in copy_of_x:\n",
    "    print(i)"
   ]
  },
  {
   "cell_type": "code",
   "execution_count": 21,
   "metadata": {
    "collapsed": false
   },
   "outputs": [
    {
     "data": {
      "text/plain": [
       "True"
      ]
     },
     "execution_count": 21,
     "metadata": {},
     "output_type": "execute_result"
    }
   ],
   "source": [
    "1 in [1, 2, 3]"
   ]
  },
  {
   "cell_type": "code",
   "execution_count": 22,
   "metadata": {
    "collapsed": false
   },
   "outputs": [
    {
     "data": {
      "text/plain": [
       "False"
      ]
     },
     "execution_count": 22,
     "metadata": {},
     "output_type": "execute_result"
    }
   ],
   "source": [
    "0 in [1, 2, 3]"
   ]
  },
  {
   "cell_type": "markdown",
   "metadata": {},
   "source": [
    "- 위 방법은 list의 항목을 하나씩 모두 확인해 보기 때문에 list의 크기가 작을 때만(혹은 확인하는데 걸리는 시간이 상관없다면) 사용하자."
   ]
  },
  {
   "cell_type": "code",
   "execution_count": 23,
   "metadata": {
    "collapsed": false
   },
   "outputs": [
    {
     "name": "stdout",
     "output_type": "stream",
     "text": [
      "[1, 2, 3]\n[1, 2, 3, 4, 5, 6]\n"
     ]
    }
   ],
   "source": [
    "x = [1, 2, 3]\n",
    "print(x)\n",
    "x.extend([4, 5, 6])\n",
    "print(x)"
   ]
  },
  {
   "cell_type": "code",
   "execution_count": 24,
   "metadata": {
    "collapsed": false
   },
   "outputs": [
    {
     "name": "stdout",
     "output_type": "stream",
     "text": [
      "[1, 2, 3]\n[1, 2, 3, 4, 5, 6]\n"
     ]
    }
   ],
   "source": [
    "x = [1, 2, 3]\n",
    "y = x + [4, 5, 6]\n",
    "print(x)\n",
    "print(y)"
   ]
  },
  {
   "cell_type": "markdown",
   "metadata": {
    "collapsed": true
   },
   "source": [
    "- 주로 list에 항목을 하나씩 추가하는 경우가 많다."
   ]
  },
  {
   "cell_type": "code",
   "execution_count": 25,
   "metadata": {},
   "outputs": [
    {
     "name": "stdout",
     "output_type": "stream",
     "text": [
      "[1, 2, 3, 0]\n0\n4\n"
     ]
    }
   ],
   "source": [
    "x = [1, 2, 3]\n",
    "x.append(0)\n",
    "print(x)\n",
    "y = x[-1]\n",
    "print(y)\n",
    "print(len(x))"
   ]
  },
  {
   "cell_type": "markdown",
   "metadata": {},
   "source": [
    "- list 안에 몇 개의 항목이 존재하는지 알고 있다면 unpack을 이용하여 손쉽게 list를 풀 수도 있다.\n",
    "- 하지만 양쪽 항목의 갯수가 다르다면 ValueError가 발생한다.\n",
    "- 보통 버릴 항목은 밑줄(_)로 표시한다."
   ]
  },
  {
   "cell_type": "code",
   "execution_count": 26,
   "metadata": {},
   "outputs": [
    {
     "name": "stdout",
     "output_type": "stream",
     "text": [
      "1\n2\n2\n"
     ]
    }
   ],
   "source": [
    "x, y = [1, 2]\n",
    "print(x)\n",
    "print(y)\n",
    "\n",
    "_, y = [1, 2]\n",
    "print(y)"
   ]
  },
  {
   "cell_type": "markdown",
   "metadata": {},
   "source": [
    "### 2.1.10 tuple\n",
    "- tuple은 변경할 수 없는 list.\n",
    "- list에서 수정을 제외한 모든 기능을 tuple에 적용할 수 있다.\n",
    "- tuple은 대괄호 대신 괄호를 사용해서 (혹은 아무런 기호 없이) 정의한다."
   ]
  },
  {
   "cell_type": "code",
   "execution_count": 27,
   "metadata": {},
   "outputs": [
    {
     "name": "stdout",
     "output_type": "stream",
     "text": [
      "tuple은 수정할 수 없습니다.\n"
     ]
    }
   ],
   "source": [
    "my_list = [1, 2]\n",
    "my_tuple = (1, 2)\n",
    "\n",
    "other_tuple = 3, 4\n",
    "my_list[1] = 3\n",
    "\n",
    "try:\n",
    "    my_tuple[1] = 3\n",
    "except:\n",
    "    print(\"tuple은 수정할 수 없습니다.\")"
   ]
  },
  {
   "cell_type": "markdown",
   "metadata": {},
   "source": [
    "* 함수에서 여러 값을 반환할 때 tuple을 사용하면 편리함.\n",
    "* tuple과 list는 다중 할당(multiple assignment)을 지원한다."
   ]
  },
  {
   "cell_type": "code",
   "execution_count": 28,
   "metadata": {},
   "outputs": [
    {
     "name": "stdout",
     "output_type": "stream",
     "text": [
      "(5, 6)\n11 30\n<class 'int'>\n<class 'int'>\n2\n1\n"
     ]
    }
   ],
   "source": [
    "def sum_and_product(x, y):\n",
    "\treturn (x + y), (x * y)\n",
    "\n",
    "sp = sum_and_product(2, 3)\n",
    "print(sp)\n",
    "s, p = sum_and_product(5, 6)\n",
    "print(s, p)\n",
    "\n",
    "x, y = 1, 2\n",
    "print(type(x))\n",
    "print(type(y))\n",
    "x, y = y, x\n",
    "print(x)\n",
    "print(y)"
   ]
  },
  {
   "cell_type": "markdown",
   "metadata": {},
   "source": [
    "### 2.1.11 dict\n",
    "dict(dictionary, 사전)는 파이썬의 또 다른 기본적인 데이터 구조\n",
    "* 특정 value(값)와 연관된 key를 연결해 주고 이를 사용해 value를 빠르게 검색 가능. (일종의 해시이다.)"
   ]
  },
  {
   "cell_type": "code",
   "execution_count": 29,
   "metadata": {},
   "outputs": [
    {
     "name": "stdout",
     "output_type": "stream",
     "text": [
      "no grade for Kate!\n"
     ]
    }
   ],
   "source": [
    "empty_dict = {}     # 가장 파이썬스럽게 dict를 만드는 방법\n",
    "empty_dict2 = dict() # 덜 파이썬스럽게 dict를 만드는 방법\n",
    "grades = { \"Joel\" : 80, \"Tim\" : 95 }\n",
    "\n",
    "joels_grade = grades[\"Joel\"]\n",
    "\n",
    "# dict에 존재하지 않는 key를 입력하면 KeyError 예외가 발생\n",
    "try:\n",
    "\tkates_grade = grades[\"Kate\"]\n",
    "except KeyError:\n",
    "\tprint (\"no grade for Kate!\")"
   ]
  },
  {
   "cell_type": "markdown",
   "metadata": {},
   "source": [
    "연산자 in을 사용하면 key의 존재 여부를 확인할 수 있다."
   ]
  },
  {
   "cell_type": "code",
   "execution_count": 30,
   "metadata": {},
   "outputs": [
    {
     "name": "stdout",
     "output_type": "stream",
     "text": [
      "True\nFalse\n"
     ]
    }
   ],
   "source": [
    "print(\"Joel\" in grades)\n",
    "print(\"Kate\" in grades)"
   ]
  },
  {
   "cell_type": "markdown",
   "metadata": {},
   "source": [
    "dict에서 get 메서드를 사용하면 입력한 key가 dict에 없어도 에러를 반환하지 않고 기본값을 반환한다."
   ]
  },
  {
   "cell_type": "code",
   "execution_count": 31,
   "metadata": {},
   "outputs": [
    {
     "name": "stdout",
     "output_type": "stream",
     "text": [
      "80\n없음\nNone\n"
     ]
    }
   ],
   "source": [
    "print(grades.get(\"Joel\", 0))\n",
    "print(grades.get(\"Kate\", \"없음\"))\n",
    "print(grades.get(\"No One\")) # 기본값으로 None을 반환"
   ]
  },
  {
   "cell_type": "markdown",
   "metadata": {},
   "source": [
    "대괄호를 사용해서 key와 value를 새로 지정할 수 있다."
   ]
  },
  {
   "cell_type": "code",
   "execution_count": 32,
   "metadata": {},
   "outputs": [
    {
     "name": "stdout",
     "output_type": "stream",
     "text": [
      "{'Joel': 80, 'Tim': 99, 'Kate': 100}\n"
     ]
    }
   ],
   "source": [
    "grades[\"Tim\"] = 99  # 기존 Tim 값을 대체\n",
    "grades[\"Kate\"] = 100    # 세 번째 Kate 항목 추가\n",
    "print(grades)"
   ]
  },
  {
   "cell_type": "markdown",
   "metadata": {},
   "source": [
    "정형화된 데이터를 간단하게 나타낼 때는 주로 dict가 사용된다."
   ]
  },
  {
   "cell_type": "code",
   "execution_count": 35,
   "metadata": {},
   "outputs": [
    {
     "name": "stdout",
     "output_type": "stream",
     "text": [
      "{'user': 'joelgrus', 'text': 'Data Science is Awesome', 'retweet_count': 100, 'hashtags': ['#data', '#science', '#datascience', '#awesome', '#yolo']}\n"
     ]
    }
   ],
   "source": [
    "tweet = {\n",
    "\t\"user\" : \"joelgrus\",\n",
    "\t\"text\" : \"Data Science is Awesome\",\n",
    "\t\"retweet_count\" : 100,\n",
    "\t\"hashtags\" : [\"#data\", \"#science\", \"#datascience\", \"#awesome\", \"#yolo\"]\n",
    "}\n",
    "\n",
    "print(tweet)"
   ]
  },
  {
   "cell_type": "markdown",
   "metadata": {},
   "source": [
    "특정 key 대신 dict의 모든 key를 한번에 살펴볼 수 있다."
   ]
  },
  {
   "cell_type": "code",
   "execution_count": 36,
   "metadata": {},
   "outputs": [
    {
     "name": "stdout",
     "output_type": "stream",
     "text": [
      "dict_keys(['user', 'text', 'retweet_count', 'hashtags'])\ndict_values(['joelgrus', 'Data Science is Awesome', 100, ['#data', '#science', '#datascience', '#awesome', '#yolo']])\ndict_items([('user', 'joelgrus'), ('text', 'Data Science is Awesome'), ('retweet_count', 100), ('hashtags', ['#data', '#science', '#datascience', '#awesome', '#yolo'])])\nTrue\nTrue\nTrue\n"
     ]
    }
   ],
   "source": [
    "tweet_keys = tweet.keys()   # key에 대한 list\n",
    "print(tweet_keys)\n",
    "tweet_values = tweet.values() # value에 대한 list\n",
    "print(tweet_values)\n",
    "tweet_items = tweet.items() # (key, value) tuple에 대한 list\n",
    "print(tweet_items)\n",
    "\n",
    "print(\"user\" in tweet_keys)    # True, list에서 in을 사용하기 때문에 느림\n",
    "print(\"user\" in tweet)         # True, 훨씬 파이썬스럽고 dict에서 in을 사용하기 때문에 빠름\n",
    "print(\"joelgrus\" in tweet_values) # True"
   ]
  },
  {
   "cell_type": "markdown",
   "metadata": {},
   "source": [
    "* dict의 key는 수정불가\n",
    "* list를 key로 사용불가\n",
    "* 만약 다양한 값으로 구성된 key가 필요하다면 tuple이나 문자열을 key로 사용하자."
   ]
  },
  {
   "cell_type": "markdown",
   "metadata": {},
   "source": [
    "#### defaultdict\n",
    "문서에서 단어의 빈도수를 세어 보는 중이라고 상상해보자.  \n",
    "가장 직관적인 방법은 단어를 key로, 빈도수를 value로 저장하는 dict를 생성하는 것이다.  \n",
    "이 때, 각 단어가 dict에 이미 존재하면 값을 증가시키고 존재하지 않는다면 새로운 key와 value를 추가하면 된다."
   ]
  },
  {
   "cell_type": "code",
   "execution_count": 39,
   "metadata": {},
   "outputs": [
    {
     "name": "stdout",
     "output_type": "stream",
     "text": [
      "{'test': 2, 'have': 1, 'why': 1, 'this': 2, 'fire': 2, 'water': 2, 'none': 1, 'he': 1, 'she': 1, 'it': 1, 'october': 1, 'that': 1, 'those': 1, 'people': 1, 'man': 1, 'tree': 1}\n"
     ]
    }
   ],
   "source": [
    "document = ['test', 'have', 'why', 'this', 'fire', 'water', 'none', 'he', 'she', 'it', 'october', \n",
    "            'test', 'fire', 'this', 'that', 'those', 'people', 'man', 'water', 'tree']\n",
    "word_counts = {}\n",
    "for word in document:\n",
    "\tif word in word_counts:\n",
    "\t\tword_counts[word] += 1\n",
    "\telse:\n",
    "\t\tword_counts[word] = 1\n",
    "\t\t\n",
    "print(word_counts)"
   ]
  },
  {
   "cell_type": "markdown",
   "metadata": {},
   "source": [
    "혹은, 예외를 처리하면서 생성하는 방법도 있습니다."
   ]
  },
  {
   "cell_type": "code",
   "execution_count": 40,
   "metadata": {},
   "outputs": [
    {
     "name": "stdout",
     "output_type": "stream",
     "text": [
      "{'test': 2, 'have': 1, 'why': 1, 'this': 2, 'fire': 2, 'water': 2, 'none': 1, 'he': 1, 'she': 1, 'it': 1, 'october': 1, 'that': 1, 'those': 1, 'people': 1, 'man': 1, 'tree': 1}\n"
     ]
    }
   ],
   "source": [
    "word_counts = {}\n",
    "for word in document:\n",
    "\ttry:\n",
    "\t\tword_counts[word] += 1\n",
    "\texcept KeyError:\n",
    "\t\tword_counts[word] = 1\n",
    "\n",
    "print(word_counts)"
   ]
  },
  {
   "cell_type": "markdown",
   "metadata": {},
   "source": [
    "세번째 방법은 존재하지 않는 key를 적절하게 처리해 주는 get을 사용해서 dict를 생성하는 방법"
   ]
  },
  {
   "cell_type": "code",
   "execution_count": 44,
   "metadata": {},
   "outputs": [
    {
     "name": "stdout",
     "output_type": "stream",
     "text": [
      "{'test': 2, 'have': 1, 'why': 1, 'this': 2, 'fire': 2, 'water': 2, 'none': 1, 'he': 1, 'she': 1, 'it': 1, 'october': 1, 'that': 1, 'those': 1, 'people': 1, 'man': 1, 'tree': 1}\n"
     ]
    }
   ],
   "source": [
    "word_counts = {}\n",
    "for word in document:\n",
    "\tprevious_count = word_counts.get(word,0)\n",
    "\tword_counts[word] = previous_count + 1\n",
    "\n",
    "print(word_counts)"
   ]
  },
  {
   "cell_type": "markdown",
   "metadata": {},
   "source": [
    "defaultdict를 사용하면 더 편하게 할 수 있다.  \n",
    "defaultdict와 dict의 유일한 차이점은 만약 존재하지 않는 key가 주어진다면 defaultdict는 이 key와 인자에서 주어진 값으로 dict에 새로운 항목을 추가해 준다.  \n",
    "defaultdict를 사용하기 위해서는 먼저 collections 모듈에서 defaultdict를 불러와야 함."
   ]
  },
  {
   "cell_type": "code",
   "execution_count": 45,
   "metadata": {},
   "outputs": [
    {
     "name": "stdout",
     "output_type": "stream",
     "text": [
      "defaultdict(<class 'int'>, {'test': 2, 'have': 1, 'why': 1, 'this': 2, 'fire': 2, 'water': 2, 'none': 1, 'he': 1, 'she': 1, 'it': 1, 'october': 1, 'that': 1, 'those': 1, 'people': 1, 'man': 1, 'tree': 1})\n"
     ]
    }
   ],
   "source": [
    "from collections import defaultdict\n",
    "\n",
    "word_counts = defaultdict(int)      # int()는 0을 생성\n",
    "for word in document:\n",
    "\tword_counts[word] += 1\n",
    "\t\n",
    "print(word_counts)"
   ]
  },
  {
   "cell_type": "markdown",
   "metadata": {},
   "source": [
    "list, dict 혹은 직접 만든 함수를 인자에 넣을 수 있다."
   ]
  },
  {
   "cell_type": "code",
   "execution_count": 46,
   "metadata": {},
   "outputs": [
    {
     "name": "stdout",
     "output_type": "stream",
     "text": [
      "defaultdict(<class 'list'>, {2: [1]})\n"
     ]
    }
   ],
   "source": [
    "dd_list = defaultdict(list)     # list()는 빈 list를 생성\n",
    "dd_list[2].append(1)            # 이제 dd_list는 {2: [1]}을 포함\n",
    "print(dd_list)"
   ]
  },
  {
   "cell_type": "code",
   "execution_count": 47,
   "metadata": {},
   "outputs": [
    {
     "name": "stdout",
     "output_type": "stream",
     "text": [
      "defaultdict(<class 'dict'>, {'Joel': {'City': 'Seattle'}})\ndefaultdict(<function <lambda> at 0x0000028AB9810268>, {2: [0, 1]})\n"
     ]
    }
   ],
   "source": [
    "dd_dict = defaultdict(dict)         # dict()는 빈 dict를 생성\n",
    "dd_dict[\"Joel\"][\"City\"] = \"Seattle\" # { \"Joel\" : {2: [0,1] } 를 포함\n",
    "print(dd_dict)\n",
    "\n",
    "dd_pair = defaultdict( lambda: [0, 0])\n",
    "dd_pair[2][1] = 1       # 이제 dd_pair는 {2: [0,1]}을 포함\n",
    "print(dd_pair)"
   ]
  },
  {
   "cell_type": "markdown",
   "metadata": {},
   "source": [
    "만약 key를 사용해서 어떤 결과를 수집하는 중이라면 매번 key가 존재하는지 확인할 필요없이 dict 생성가능"
   ]
  },
  {
   "cell_type": "markdown",
   "metadata": {},
   "source": [
    "#### Counter\n",
    "Counter는 연속된 값을 defaultdict(int)와 유사한 객체로 변환하며, key와 value의 빈도를 연결시켜 줌.  \n",
    "히스토그램을 그릴 때 자주 사용"
   ]
  },
  {
   "cell_type": "code",
   "execution_count": 48,
   "metadata": {},
   "outputs": [
    {
     "name": "stdout",
     "output_type": "stream",
     "text": [
      "Counter({0: 2, 1: 1, 2: 1})\n"
     ]
    }
   ],
   "source": [
    "from collections import Counter\n",
    "c = Counter([0, 1, 2, 0])\n",
    "print(c)"
   ]
  },
  {
   "cell_type": "markdown",
   "metadata": {},
   "source": [
    "특정 문서에서 단어 갯수를 셀 때도 유용함."
   ]
  },
  {
   "cell_type": "code",
   "execution_count": 49,
   "metadata": {},
   "outputs": [
    {
     "name": "stdout",
     "output_type": "stream",
     "text": [
      "Counter({'test': 2, 'this': 2, 'fire': 2, 'water': 2, 'have': 1, 'why': 1, 'none': 1, 'he': 1, 'she': 1, 'it': 1, 'october': 1, 'that': 1, 'those': 1, 'people': 1, 'man': 1, 'tree': 1})\n"
     ]
    }
   ],
   "source": [
    "word_counts = Counter(document)\n",
    "print(word_counts)"
   ]
  },
  {
   "cell_type": "markdown",
   "metadata": {},
   "source": [
    "Counter 객체에는 굉장히 유용하게 쓰이는 most_common 함수가 있음."
   ]
  },
  {
   "cell_type": "code",
   "execution_count": 50,
   "metadata": {},
   "outputs": [
    {
     "name": "stdout",
     "output_type": "stream",
     "text": [
      "test 2\nthis 2\nfire 2\nwater 2\nhave 1\nwhy 1\nnone 1\nhe 1\nshe 1\nit 1\n"
     ]
    }
   ],
   "source": [
    "for word, count in word_counts.most_common(10):\n",
    "\tprint (word, count)"
   ]
  },
  {
   "cell_type": "markdown",
   "metadata": {},
   "source": [
    "### 2.1.12 Set\n",
    "set은 파이썬의 데이터 구조 중 유일한 항목의 집합을 나타내는 구조"
   ]
  },
  {
   "cell_type": "code",
   "execution_count": 51,
   "metadata": {},
   "outputs": [
    {
     "name": "stdout",
     "output_type": "stream",
     "text": [
      "True\nFalse\n"
     ]
    }
   ],
   "source": [
    "s = set()\n",
    "s.add(1)    # { 1 }\n",
    "s.add(2)    # { 1, 2 }\n",
    "s.add(2)    # { 1, 2 }\n",
    "x = len(s)  # 2\n",
    "print(2 in s)\n",
    "print(3 in s)\n",
    "\n"
   ]
  },
  {
   "cell_type": "markdown",
   "metadata": {},
   "source": [
    "in은 set에서 굉장히 빠르게 작동한다.  \n",
    "수많은 항목 중에서 특정 항목의 존재 여부를 확인해 보기 위해서는 list를 사용하는 것보다 set을 사용하는 것이 훨씬 효율적"
   ]
  },
  {
   "cell_type": "code",
   "execution_count": 52,
   "metadata": {},
   "outputs": [
    {
     "name": "stdout",
     "output_type": "stream",
     "text": [
      "False\nFalse\n"
     ]
    }
   ],
   "source": [
    "stopwords_list = [\"a\", \"an\", \"at\", \"yet\", \"you\"]\n",
    "print(\"zip\" in stopwords_list) # False, 하지만 모든 항목을 확인해야 함.\n",
    "stopwords_set = set(stopwords_list)\n",
    "print(\"zip\" in stopwords_set)   # 굉장히 빠르게 확인 가능\n"
   ]
  },
  {
   "cell_type": "markdown",
   "metadata": {},
   "source": [
    "중복된 원소 제거"
   ]
  },
  {
   "cell_type": "code",
   "execution_count": 53,
   "metadata": {},
   "outputs": [
    {
     "name": "stdout",
     "output_type": "stream",
     "text": [
      "6\n3\n"
     ]
    }
   ],
   "source": [
    "item_list = [1, 2, 3, 1, 2, 3]\n",
    "print(len(item_list))\n",
    "item_set = set(item_list)   # { 1, 2, 3 }\n",
    "print(len(item_set))\n",
    "distinct_item_list = list(item_set) # [ 1, 2, 3 ]\n"
   ]
  },
  {
   "cell_type": "markdown",
   "metadata": {},
   "source": [
    "### 2.1.13 흐름 제어"
   ]
  },
  {
   "cell_type": "code",
   "execution_count": 54,
   "metadata": {},
   "outputs": [
    {
     "name": "stdout",
     "output_type": "stream",
     "text": [
      "even\n"
     ]
    }
   ],
   "source": [
    "parity = \"even\" if x % 2 == 0 else \"odd\"\n",
    "print(parity)"
   ]
  },
  {
   "cell_type": "markdown",
   "metadata": {},
   "source": [
    "파이썬에도 while이 존재하지만,  \n",
    "아래와 같이 for와 in을 더 자주 사용할 것임."
   ]
  },
  {
   "cell_type": "code",
   "execution_count": 55,
   "metadata": {},
   "outputs": [
    {
     "name": "stdout",
     "output_type": "stream",
     "text": [
      "0 is less than 10\n1 is less than 10\n2 is less than 10\n3 is less than 10\n4 is less than 10\n5 is less than 10\n6 is less than 10\n7 is less than 10\n8 is less than 10\n9 is less than 10\n0 is less than 10\n1 is less than 10\n2 is less than 10\n3 is less than 10\n4 is less than 10\n5 is less than 10\n6 is less than 10\n7 is less than 10\n8 is less than 10\n9 is less than 10\n"
     ]
    }
   ],
   "source": [
    "x = 0\n",
    "while x < 10:\n",
    "\tprint(x, \"is less than 10\")\n",
    "\tx += 1\n",
    "\t\n",
    "for x in range(10):\n",
    "\tprint(x, \"is less than 10\")"
   ]
  },
  {
   "cell_type": "markdown",
   "metadata": {},
   "source": [
    "### 2.1.14 True와 False"
   ]
  },
  {
   "cell_type": "code",
   "execution_count": 56,
   "metadata": {},
   "outputs": [
    {
     "name": "stdout",
     "output_type": "stream",
     "text": [
      "True\nFalse\n"
     ]
    }
   ],
   "source": [
    "print( 1 < 2 )\n",
    "print( True == False )"
   ]
  },
  {
   "cell_type": "markdown",
   "metadata": {},
   "source": [
    "다른 언어의 null 처럼 파이썬은 존재하지 않는 값은 None으로 표시함."
   ]
  },
  {
   "cell_type": "code",
   "execution_count": 57,
   "metadata": {},
   "outputs": [
    {
     "name": "stdout",
     "output_type": "stream",
     "text": [
      "True\nTrue\n"
     ]
    }
   ],
   "source": [
    "x = None\n",
    "print(x == None)    # True, 하지만 파이썬스럽지 않다.\n",
    "print(x is None)    # True, 파이썬스럽다."
   ]
  },
  {
   "cell_type": "markdown",
   "metadata": {},
   "source": [
    "다음은 모두 거짓이다.\n",
    "* False\n",
    "* None\n",
    "* []\n",
    "* {}\n",
    "* \"\"\n",
    "* set()\n",
    "* 0\n",
    "* 0.0  \n",
    "\n",
    "나머지 거의 모든 것은 참이다.  \n",
    "이를 통해 list, 문자열, dict 등이 비어 있는지 쉽게 확인 가능함.  \n",
    "하지만 예상치 못한 오류가 발생하기도 함."
   ]
  },
  {
   "cell_type": "code",
   "execution_count": 59,
   "metadata": {},
   "outputs": [
    {
     "name": "stdout",
     "output_type": "stream",
     "text": [
      "\n"
     ]
    }
   ],
   "source": [
    "s = None\n",
    "if s:\n",
    "\tfirst_char = s[0]\n",
    "else:\n",
    "\tfirst_char = \"\"\n",
    "\t\n",
    "print(first_char)"
   ]
  },
  {
   "cell_type": "code",
   "execution_count": 60,
   "metadata": {},
   "outputs": [],
   "source": [
    "first_char = s and s[0]"
   ]
  },
  {
   "cell_type": "markdown",
   "metadata": {},
   "source": [
    "파이썬에는 list의 모든 항목이 참이라면 True를 반환해주는 all함수와  \n",
    "적어도 하나의 항목이 참이라면 True를 반환해 주는 any 함수가 있음."
   ]
  },
  {
   "cell_type": "code",
   "execution_count": 61,
   "metadata": {},
   "outputs": [
    {
     "name": "stdout",
     "output_type": "stream",
     "text": [
      "True\nFalse\nTrue\nTrue\nFalse\n"
     ]
    }
   ],
   "source": [
    "print(all([True, 1, { 3}]))\n",
    "print(all([True, 1, {}]))\n",
    "print(any([True, 1, {}]))\n",
    "print(all([]))\n",
    "print(any([]))"
   ]
  },
  {
   "cell_type": "markdown",
   "metadata": {},
   "source": [
    "## 2.2 기본기에서 한 걸음 나아가기\n",
    "### 2.2.1 정렬\n",
    "list에는 list를 자동으로 정렬해 주는 sort 메서드가 있음.  \n",
    "이미 만든 list를 망치고 싶지 않다면 sorted 함수를 사용해서 새롭게 정렬된 list를 생성할 수 있다.  "
   ]
  },
  {
   "cell_type": "code",
   "execution_count": 62,
   "metadata": {},
   "outputs": [
    {
     "name": "stdout",
     "output_type": "stream",
     "text": [
      "x는 [4, 1, 2, 3]\ny는 [1, 2, 3, 4]\n이제 x도 [1, 2, 3, 4]\n"
     ]
    }
   ],
   "source": [
    "x = [4, 1, 2, 3]\n",
    "y = sorted(x)\n",
    "print(\"x는 {}\".format(x))\n",
    "print(\"y는 {}\".format(y))\n",
    "x.sort()\n",
    "print(\"이제 x도 {}\".format(x))"
   ]
  },
  {
   "cell_type": "markdown",
   "metadata": {},
   "source": [
    "기본적으로 sort메서드와 sorted 함수는 list의 각 항목을 일일이 비교해서 오름차순으로 정렬.  \n",
    "만약 list를 내림차순으로 정렬하고 싶다면 인자에 reverse=True를 추가하면 된다.  \n",
    "list의 각 항목끼리 서로 비교하는 대신 key를 사용하면 지정한 함수의 결과값을 기준으로 list를 정렬할 수 있음."
   ]
  },
  {
   "cell_type": "code",
   "execution_count": 63,
   "metadata": {},
   "outputs": [
    {
     "name": "stdout",
     "output_type": "stream",
     "text": [
      "[-4, 3, -2, 1]\n"
     ]
    }
   ],
   "source": [
    "# 절댓값의 내림차순으로 list를 정렬\n",
    "x = sorted([-4, 1, -2, 3], key=abs, reverse=True)\n",
    "print(x)"
   ]
  },
  {
   "cell_type": "code",
   "execution_count": 68,
   "metadata": {},
   "outputs": [
    {
     "name": "stdout",
     "output_type": "stream",
     "text": [
      "[('test', 2), ('this', 2), ('fire', 2), ('water', 2), ('have', 1), ('why', 1), ('none', 1), ('he', 1), ('she', 1), ('it', 1), ('october', 1), ('that', 1), ('those', 1), ('people', 1), ('man', 1), ('tree', 1)]\n"
     ]
    }
   ],
   "source": [
    "# 빈도의 내림차순으로 단어와 빈도를 정렬\n",
    "#print(word_counts.items())\n",
    "wc = sorted(word_counts.items(), key=lambda k_v : k_v[1], reverse=True)\n",
    "print(wc)"
   ]
  },
  {
   "cell_type": "markdown",
   "metadata": {},
   "source": [
    "### 2.2.2 List Comprehension\n",
    "기존의 list에서 특정 항목을 선택하거나 변환시킨 결과를 새로운 list에 저장해야 하는 경우가 자주 발샘함.  \n",
    "가장 파이썬스럽게 처리하는 방법은 list comprehension임."
   ]
  },
  {
   "cell_type": "code",
   "execution_count": 71,
   "metadata": {},
   "outputs": [
    {
     "name": "stdout",
     "output_type": "stream",
     "text": [
      "[0, 2, 4]\n[0, 1, 4, 9, 16]\n[0, 4, 16]\n"
     ]
    }
   ],
   "source": [
    "print([x for x in range(5) if x % 2 == 0])  # [0, 2, 4] 짝수\n",
    "print([x * x for x in range(5)])            # [0, 1, 4, 9, 16] 제곱수\n",
    "print([x * x for x in even_numbers])        # [0, 4, 16] 짝수의 제곱수"
   ]
  },
  {
   "cell_type": "markdown",
   "metadata": {},
   "source": [
    "dict나 set으로의 변환도 가능."
   ]
  },
  {
   "cell_type": "code",
   "execution_count": 72,
   "metadata": {},
   "outputs": [
    {
     "name": "stdout",
     "output_type": "stream",
     "text": [
      "{0: 0, 1: 1, 2: 4, 3: 9, 4: 16}\n{1}\n"
     ]
    }
   ],
   "source": [
    "print({ x : x * x for x in range(5)})\n",
    "print({ x * x for x in [1, -1]})\n"
   ]
  },
  {
   "cell_type": "markdown",
   "metadata": {},
   "source": [
    "보통 list에서 불필요한 값은 밑줄로 표기한다."
   ]
  },
  {
   "cell_type": "code",
   "execution_count": 73,
   "metadata": {},
   "outputs": [
    {
     "name": "stdout",
     "output_type": "stream",
     "text": [
      "[0, 0, 0]\n"
     ]
    }
   ],
   "source": [
    "zeroes = [0 for _ in even_numbers]\n",
    "print(zeroes)"
   ]
  },
  {
   "cell_type": "markdown",
   "metadata": {},
   "source": [
    "List Comprehension에는 여러 for를 포함할 수 있다."
   ]
  },
  {
   "cell_type": "code",
   "execution_count": 74,
   "metadata": {},
   "outputs": [
    {
     "name": "stdout",
     "output_type": "stream",
     "text": [
      "[(0, 0), (0, 1), (0, 2), (0, 3), (0, 4), (0, 5), (0, 6), (0, 7), (0, 8), (0, 9), (1, 0), (1, 1), (1, 2), (1, 3), (1, 4), (1, 5), (1, 6), (1, 7), (1, 8), (1, 9), (2, 0), (2, 1), (2, 2), (2, 3), (2, 4), (2, 5), (2, 6), (2, 7), (2, 8), (2, 9), (3, 0), (3, 1), (3, 2), (3, 3), (3, 4), (3, 5), (3, 6), (3, 7), (3, 8), (3, 9), (4, 0), (4, 1), (4, 2), (4, 3), (4, 4), (4, 5), (4, 6), (4, 7), (4, 8), (4, 9), (5, 0), (5, 1), (5, 2), (5, 3), (5, 4), (5, 5), (5, 6), (5, 7), (5, 8), (5, 9), (6, 0), (6, 1), (6, 2), (6, 3), (6, 4), (6, 5), (6, 6), (6, 7), (6, 8), (6, 9), (7, 0), (7, 1), (7, 2), (7, 3), (7, 4), (7, 5), (7, 6), (7, 7), (7, 8), (7, 9), (8, 0), (8, 1), (8, 2), (8, 3), (8, 4), (8, 5), (8, 6), (8, 7), (8, 8), (8, 9), (9, 0), (9, 1), (9, 2), (9, 3), (9, 4), (9, 5), (9, 6), (9, 7), (9, 8), (9, 9)]\n"
     ]
    }
   ],
   "source": [
    "pairs = [(x, y)\n",
    "         for x in range(10)\n",
    "         for y in range(10)]\n",
    "print(pairs)"
   ]
  },
  {
   "cell_type": "markdown",
   "metadata": {},
   "source": [
    "뒤에 나오는 for는 앞에 나온 결과에 대해 반복한다."
   ]
  },
  {
   "cell_type": "code",
   "execution_count": 75,
   "metadata": {},
   "outputs": [
    {
     "name": "stdout",
     "output_type": "stream",
     "text": [
      "[(0, 1), (0, 2), (0, 3), (0, 4), (0, 5), (0, 6), (0, 7), (0, 8), (0, 9), (1, 2), (1, 3), (1, 4), (1, 5), (1, 6), (1, 7), (1, 8), (1, 9), (2, 3), (2, 4), (2, 5), (2, 6), (2, 7), (2, 8), (2, 9), (3, 4), (3, 5), (3, 6), (3, 7), (3, 8), (3, 9), (4, 5), (4, 6), (4, 7), (4, 8), (4, 9), (5, 6), (5, 7), (5, 8), (5, 9), (6, 7), (6, 8), (6, 9), (7, 8), (7, 9), (8, 9)]\n"
     ]
    }
   ],
   "source": [
    "increasing_pairs = [(x, y)\n",
    "                    for x in range(10)\n",
    "                    for y in range(x + 1, 10)]\n",
    "print(increasing_pairs)"
   ]
  },
  {
   "cell_type": "markdown",
   "metadata": {},
   "source": [
    "### 2.2.3 Generator와 iterator\n",
    "크기가 빠르게 증가한다는 것은 list의 단점 중 하나.  \n",
    "실제로 range(1000000)은 100만 개의 항목으로 구성된 list를 만들어준다.  \n",
    "하지만 한 번에 항목을 하나씩 처리하기 위해 list 전체를 사용하는 것은 엄청나게 비효율적이며 컴퓨터의 메모리가 부족해질 수 있다.  \n",
    "만약 list 앞부분의 몇몇 값만 필요하다면 list 전체를 계산할 필요가 없다.  \n",
    "Generator(생성자)는 (주로 for문을 통해서) 반복할 수 있으며, generator의 각 항목은 필요한 순간에 그때그때 생성된다.  \n",
    "Generator를 만드는 한가지 방법은 함수와 yield를 활용하는 것이다.  "
   ]
  },
  {
   "cell_type": "code",
   "execution_count": 77,
   "metadata": {},
   "outputs": [],
   "source": [
    "def lazy_range(n):\n",
    "\t\"\"\"range와 똑같은 기능을 하는 generator\"\"\"\n",
    "\ti = 0\n",
    "\twhile i < n:\n",
    "\t\tyield i\n",
    "\t\ti += 1"
   ]
  },
  {
   "cell_type": "markdown",
   "metadata": {},
   "source": [
    "다음과 같은 반복문은 yield로 반환되는 값이 없을 때까지 반환된 값을 차례로 하나씩 사용함."
   ]
  },
  {
   "cell_type": "code",
   "execution_count": 78,
   "metadata": {},
   "outputs": [
    {
     "name": "stdout",
     "output_type": "stream",
     "text": [
      "0\n1\n2\n3\n4\n5\n6\n7\n8\n9\n"
     ]
    }
   ],
   "source": [
    "for i in lazy_range(10):\n",
    "\tprint(i)"
   ]
  },
  {
   "cell_type": "markdown",
   "metadata": {},
   "source": [
    "파이썬2에서는 xrange라는 이름으로 lazy_range 함수가 이미 구현되어 있음.  \n",
    "파이썬3에서는 range자체가 generator로 만들어졌다.  \n",
    "이는 무한한 수열도 메모리의 제약을 받지 않고 구현할 수 있다는 것을 의미함."
   ]
  },
  {
   "cell_type": "code",
   "execution_count": 79,
   "metadata": {},
   "outputs": [],
   "source": [
    "def natural_numbers():\n",
    "\t\"\"\"1, 2, 3, ...을 반환\"\"\"\n",
    "\tn = 1\n",
    "\twhile True:\n",
    "\t\tyield n\n",
    "\t\tn += 1"
   ]
  },
  {
   "cell_type": "markdown",
   "metadata": {},
   "source": [
    "물론 break 없이 무한 수열을 생성하는 것은 추천하지 않는다.  \n",
    "Generator의 단점은 generator를 단 한 번만 반복할 수 있다는 점이다.  \n",
    "만약 데이터를 여러 번 반복해야 항다면 매번 generator를 다시 만들거나 list를 사용해야 함.  \n",
    "또한 괄호안에 for문을 추가하는 방법으로도 generator를 만들 수 있다."
   ]
  },
  {
   "cell_type": "code",
   "execution_count": 80,
   "metadata": {},
   "outputs": [
    {
     "name": "stdout",
     "output_type": "stream",
     "text": [
      "<generator object <genexpr> at 0x0000028AB9841D00>\n"
     ]
    }
   ],
   "source": [
    "lazy_evens_below_20 = (i for i in lazy_range(20) if i % 2 == 0)\n",
    "print(lazy_evens_below_20)"
   ]
  },
  {
   "cell_type": "markdown",
   "metadata": {},
   "source": [
    "### 2.2.4 난수 생성"
   ]
  },
  {
   "cell_type": "code",
   "execution_count": 82,
   "metadata": {},
   "outputs": [
    {
     "name": "stdout",
     "output_type": "stream",
     "text": [
      "[0.8986956153675834, 0.1839678296602778, 0.7928960499574035, 0.2777709392173806]\n"
     ]
    }
   ],
   "source": [
    "import random\n",
    "# random.random()은 -과 1 사이의 난수를 생성\n",
    "four_uniform_randoms = [random.random() for _ in range(4)]\n",
    "print(four_uniform_randoms)"
   ]
  },
  {
   "cell_type": "markdown",
   "metadata": {},
   "source": [
    "만약 동일한 난수를 계속 사용하고 싶다면 random.seed를 통해 매번 고정된 난수를 생성하면 됨."
   ]
  },
  {
   "cell_type": "code",
   "execution_count": 83,
   "metadata": {},
   "outputs": [
    {
     "name": "stdout",
     "output_type": "stream",
     "text": [
      "0.5714025946899135\n0.5714025946899135\n"
     ]
    }
   ],
   "source": [
    "random.seed(10)\n",
    "print(random.random())\n",
    "random.seed(10)\n",
    "print(random.random())"
   ]
  },
  {
   "cell_type": "markdown",
   "metadata": {},
   "source": [
    "인자가 1개 혹은 2개인 random.randrange 메서드를 사용하면 range()에 해당하는 구간 안에서 난수를 생성할 수 있다."
   ]
  },
  {
   "cell_type": "code",
   "execution_count": 85,
   "metadata": {},
   "outputs": [
    {
     "name": "stdout",
     "output_type": "stream",
     "text": [
      "9\n3\n"
     ]
    }
   ],
   "source": [
    "print(random.randrange(10))        # range(10) = [0, 1, ..., 9] 에서 난수 생성\n",
    "print(random.randrange(3, 6))      # range(3, 6) = [3, 4, 5] 에서 난수 생성"
   ]
  },
  {
   "cell_type": "markdown",
   "metadata": {},
   "source": [
    "random.shuffle은 list의 항목을 임의 순서로 재정렬 해준다."
   ]
  },
  {
   "cell_type": "code",
   "execution_count": 87,
   "metadata": {},
   "outputs": [
    {
     "name": "stdout",
     "output_type": "stream",
     "text": [
      "[2, 8, 6, 3, 0, 1, 5, 4, 9, 7]\n"
     ]
    }
   ],
   "source": [
    "up_to_ten = list(range(10))   # [0, 1, 2, 3, ..., 9]\n",
    "random.shuffle(up_to_ten)\n",
    "print(up_to_ten)"
   ]
  },
  {
   "cell_type": "markdown",
   "metadata": {},
   "source": [
    "random.choice 메서드를 사용하면 list에서 임의의 항목을 하나 선택할 수 있다."
   ]
  },
  {
   "cell_type": "code",
   "execution_count": 88,
   "metadata": {},
   "outputs": [
    {
     "name": "stdout",
     "output_type": "stream",
     "text": [
      "Alice\n"
     ]
    }
   ],
   "source": [
    "my_best_friend = random.choice([\"Alice\", \"Bob\", \"Charlie\"])\n",
    "print(my_best_friend)"
   ]
  },
  {
   "cell_type": "markdown",
   "metadata": {},
   "source": [
    "random.sample을 사용하면 list에서 중복이 허용하지 않는 임의의 표본 list를 만들 수 있다."
   ]
  },
  {
   "cell_type": "code",
   "execution_count": 89,
   "metadata": {},
   "outputs": [
    {
     "name": "stdout",
     "output_type": "stream",
     "text": [
      "[47, 23, 2, 26, 55, 8]\n"
     ]
    }
   ],
   "source": [
    "lottery_numbers = range(60)\n",
    "winning_numbers = random.sample(lottery_numbers, 6)\n",
    "print(winning_numbers)"
   ]
  },
  {
   "cell_type": "markdown",
   "metadata": {},
   "source": [
    "만약 중복이 허용되는 임의의 표본 list를 만들고 싶다면 random.choice메서드를 여러 번 사용하면 된다."
   ]
  },
  {
   "cell_type": "code",
   "execution_count": 90,
   "metadata": {},
   "outputs": [
    {
     "name": "stdout",
     "output_type": "stream",
     "text": [
      "[9, 5, 6, 6]\n"
     ]
    }
   ],
   "source": [
    "four_with_replacement = [random.choice(range(10)) for _ in range(4)]\n",
    "print(four_with_replacement)"
   ]
  }
 ],
 "metadata": {
  "kernelspec": {
   "display_name": "Python 3",
   "language": "python",
   "name": "python3"
  },
  "language_info": {
   "codemirror_mode": {
    "name": "ipython",
    "version": 3
   },
   "file_extension": ".py",
   "mimetype": "text/x-python",
   "name": "python",
   "nbconvert_exporter": "python",
   "pygments_lexer": "ipython3",
   "version": "3.5.2"
  }
 },
 "nbformat": 4,
 "nbformat_minor": 0
}
