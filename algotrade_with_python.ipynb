{
 "cells": [
  {
   "cell_type": "markdown",
   "metadata": {
    "collapsed": true
   },
   "source": [
    "# 13. Pandas를 사용한 데이터 분석 기초\n",
    "## 13.1 Pandas Series\n",
    "- Why Python?\n",
    "\t- python의 기본 자료구조인 리스트, 튜플, 딕셔너리가 사용하기 편리하며, 데이터를 다루는 데 효과적이기 때문.\n",
    "- Pandas의 Series는 1차원 데이터를 다루는데 효과적인 자료구조이며, DataFrame은 행과 열로 구성된 2차원 데이터를 다루는 데 효과적인 자료구조."
   ]
  },
  {
   "cell_type": "markdown",
   "metadata": {},
   "source": [
    "### 13.1.1 파이썬 리스트, 튜플, 딕셔너리"
   ]
  },
  {
   "cell_type": "code",
   "execution_count": 1,
   "metadata": {},
   "outputs": [
    {
     "name": "stdout",
     "output_type": "stream",
     "text": [
      "kakao\nnaver\n"
     ]
    }
   ],
   "source": [
    "mystock = ['kakao', 'naver']\n",
    "print(mystock[0])\n",
    "print(mystock[1])"
   ]
  },
  {
   "cell_type": "code",
   "execution_count": 2,
   "metadata": {},
   "outputs": [
    {
     "name": "stdout",
     "output_type": "stream",
     "text": [
      "kakao\nnaver\n"
     ]
    }
   ],
   "source": [
    "for stock in mystock:\n",
    "    print(stock)"
   ]
  },
  {
   "cell_type": "code",
   "execution_count": 3,
   "metadata": {},
   "outputs": [
    {
     "name": "stdout",
     "output_type": "stream",
     "text": [
      "room1\nroom2\n"
     ]
    }
   ],
   "source": [
    "exam_dic = {'key1': 'room1', 'key2': 'room2'}\n",
    "print(exam_dic['key1'])\n",
    "print(exam_dic['key2'])"
   ]
  },
  {
   "cell_type": "markdown",
   "metadata": {},
   "source": [
    "표13.1 카카오 5일간 종가 데이터"
   ]
  },
  {
   "cell_type": "markdown",
   "metadata": {},
   "source": [
    "|날짜|종가|\n",
    "|:----------:|:--------:|\n",
    "|2016-02-19|92600|\n",
    "|2016-02-18|92400|\n",
    "|2016-02-17|92100|\n",
    "|2016-02-16|94300|\n",
    "|2016-02-15|92300|"
   ]
  },
  {
   "cell_type": "code",
   "execution_count": 4,
   "metadata": {},
   "outputs": [
    {
     "name": "stdout",
     "output_type": "stream",
     "text": [
      "92300\n94300\n92100\n92400\n92600\n"
     ]
    }
   ],
   "source": [
    "kakao_daily_ending_prices = [92300, 94300, 92100, 92400, 92600]\n",
    "\n",
    "for price in kakao_daily_ending_prices:\n",
    "    print(price)"
   ]
  },
  {
   "cell_type": "code",
   "execution_count": 5,
   "metadata": {},
   "outputs": [
    {
     "name": "stdout",
     "output_type": "stream",
     "text": [
      "92600\n"
     ]
    }
   ],
   "source": [
    "kakao_daily_ending_prices = {'2016-02-19': 92600,\n",
    "                             '2016-02-18': 92400,\n",
    "                             '2016-02-17': 92100,\n",
    "                             '2016-02-16': 94300,\n",
    "                             '2016-02-15': 92300}\n",
    "print(kakao_daily_ending_prices['2016-02-19'])"
   ]
  },
  {
   "cell_type": "markdown",
   "metadata": {},
   "source": [
    "### 13.1.2 Series 기초\n",
    "- Pandas에는 Series와 DataFrame의 두 종류의 자료구조가 존재함.\n",
    "- Series는 1차원 배열과 같은 자료구조\n",
    "- Python의 List, tuple도 1차원 배열과 같은 자료구조인데 왜 Pandas에서는 Series라는 자료구조를 추가로 만든 것일까요?\n",
    "- Series는 어떤 면에서는 python의 list와 비슷하고 어떤 면에서는 python의 dictionary와 닮은 알쏭달쏭한 자료구조임."
   ]
  },
  {
   "cell_type": "code",
   "execution_count": 10,
   "metadata": {},
   "outputs": [
    {
     "name": "stdout",
     "output_type": "stream",
     "text": [
      "0    92600\n1    92400\n2    92100\n3    94300\n4    92300\ndtype: int64\n"
     ]
    }
   ],
   "source": [
    "from pandas import Series, DataFrame\n",
    "\n",
    "kakao = Series([92600, 92400, 92100, 94300, 92300])\n",
    "print(kakao)"
   ]
  },
  {
   "cell_type": "markdown",
   "metadata": {},
   "source": [
    "- 생성시, 따로 인덱스를 지정하지 않았다면, 기본적으로 0부터 시작함.\n",
    "- 따라서, 다음과 같이 정수 인덱스 값을 통해 데이터에 접근할 수 있음."
   ]
  },
  {
   "cell_type": "code",
   "execution_count": 11,
   "metadata": {},
   "outputs": [
    {
     "name": "stdout",
     "output_type": "stream",
     "text": [
      "92600\n92100\n92300\n"
     ]
    }
   ],
   "source": [
    "print(kakao[0])\n",
    "print(kakao[2])\n",
    "print(kakao[4])"
   ]
  },
  {
   "cell_type": "markdown",
   "metadata": {},
   "source": [
    ""
   ]
  },
  {
   "cell_type": "code",
   "execution_count": 13,
   "metadata": {},
   "outputs": [
    {
     "name": "stdout",
     "output_type": "stream",
     "text": [
      "2016-02-19    92600\n2016-02-18    92400\n2016-02-17    92100\n2016-02-16    94300\n2016-02-15    92300\ndtype: int64\n92600\n92400\n"
     ]
    }
   ],
   "source": [
    "kakao2 = Series([92600, 92400, 92100, 94300, 92300], index=['2016-02-19',\n",
    "                                                            '2016-02-18',\n",
    "                                                            '2016-02-17',\n",
    "                                                            '2016-02-16',\n",
    "                                                            '2016-02-15'])\n",
    "print(kakao2)\n",
    "print(kakao2['2016-02-19'])\n",
    "print(kakao2['2016-02-18'])"
   ]
  },
  {
   "cell_type": "code",
   "execution_count": 14,
   "metadata": {},
   "outputs": [
    {
     "name": "stdout",
     "output_type": "stream",
     "text": [
      "2016-02-19\n2016-02-18\n2016-02-17\n2016-02-16\n2016-02-15\n92600\n92400\n92100\n94300\n92300\n"
     ]
    }
   ],
   "source": [
    "for date in kakao2.index:\n",
    "    print(date)\n",
    "    \n",
    "for ending_price in kakao2.values:\n",
    "    print(ending_price)"
   ]
  },
  {
   "cell_type": "code",
   "execution_count": 15,
   "metadata": {},
   "outputs": [],
   "source": [
    "mine   = Series([10, 20, 30], index=['naver', 'sk', 'kt'])\n",
    "friend = Series([10, 30, 20], index=['kt', 'naver', 'sk'])"
   ]
  },
  {
   "cell_type": "code",
   "execution_count": 16,
   "metadata": {},
   "outputs": [
    {
     "name": "stdout",
     "output_type": "stream",
     "text": [
      "kt       40\nnaver    40\nsk       40\ndtype: int64\n"
     ]
    }
   ],
   "source": [
    "merge = mine + friend\n",
    "print(merge)"
   ]
  },
  {
   "cell_type": "markdown",
   "metadata": {},
   "source": [
    "## 13.2 Pandas DataFrame\n",
    "![2차원 형태의 데이터 (출처:다음 증권)](https://wikidocs.net/images/page/4366/r13.09.png)"
   ]
  },
  {
   "cell_type": "code",
   "execution_count": 17,
   "metadata": {},
   "outputs": [
    {
     "name": "stdout",
     "output_type": "stream",
     "text": [
      "   col0  col1  col2\n0     1    10   100\n1     2    20   200\n2     3    30   300\n3     4    40   400\n"
     ]
    }
   ],
   "source": [
    "raw_data = {'col0': [1, 2, 3, 4],\n",
    "            'col1': [10, 20, 30, 40],\n",
    "            'col2': [100, 200, 300, 400]}\n",
    "\n",
    "data = DataFrame(raw_data)\n",
    "print(data)"
   ]
  },
  {
   "cell_type": "code",
   "execution_count": 18,
   "metadata": {},
   "outputs": [
    {
     "data": {
      "text/plain": [
       "0    1\n1    2\n2    3\n3    4\nName: col0, dtype: int64"
      ]
     },
     "execution_count": 18,
     "metadata": {},
     "output_type": "execute_result"
    }
   ],
   "source": [
    "data['col0']"
   ]
  },
  {
   "cell_type": "code",
   "execution_count": 19,
   "metadata": {},
   "outputs": [
    {
     "data": {
      "text/plain": [
       "0    10\n1    20\n2    30\n3    40\nName: col1, dtype: int64"
      ]
     },
     "execution_count": 19,
     "metadata": {},
     "output_type": "execute_result"
    }
   ],
   "source": [
    "data['col1']"
   ]
  },
  {
   "cell_type": "code",
   "execution_count": 20,
   "metadata": {},
   "outputs": [
    {
     "data": {
      "text/plain": [
       "0    100\n1    200\n2    300\n3    400\nName: col2, dtype: int64"
      ]
     },
     "execution_count": 20,
     "metadata": {},
     "output_type": "execute_result"
    }
   ],
   "source": [
    "data['col2']"
   ]
  },
  {
   "cell_type": "code",
   "execution_count": 21,
   "metadata": {},
   "outputs": [
    {
     "data": {
      "text/plain": [
       "pandas.core.series.Series"
      ]
     },
     "execution_count": 21,
     "metadata": {},
     "output_type": "execute_result"
    }
   ],
   "source": [
    "type(data['col0'])"
   ]
  },
  {
   "cell_type": "code",
   "execution_count": null,
   "metadata": {},
   "outputs": [],
   "source": [
    ""
   ]
  }
 ],
 "metadata": {
  "kernelspec": {
   "display_name": "Python 2",
   "language": "python",
   "name": "python2"
  },
  "language_info": {
   "codemirror_mode": {
    "name": "ipython",
    "version": 2.0
   },
   "file_extension": ".py",
   "mimetype": "text/x-python",
   "name": "python",
   "nbconvert_exporter": "python",
   "pygments_lexer": "ipython2",
   "version": "2.7.6"
  }
 },
 "nbformat": 4,
 "nbformat_minor": 0
}